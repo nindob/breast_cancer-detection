{
  "nbformat": 4,
  "nbformat_minor": 0,
  "metadata": {
    "kernelspec": {
      "display_name": "Python 3",
      "language": "python",
      "name": "python3"
    },
    "language_info": {
      "codemirror_mode": {
        "name": "ipython",
        "version": 3
      },
      "file_extension": ".py",
      "mimetype": "text/x-python",
      "name": "python",
      "nbconvert_exporter": "python",
      "pygments_lexer": "ipython3",
      "version": "3.5.0"
    },
    "colab": {
      "name": "OncoTree Classifier.ipynb",
      "provenance": []
    }
  },
  "cells": [
    {
      "cell_type": "code",
      "metadata": {
        "id": "fqKsyk--h4XZ",
        "colab_type": "code",
        "colab": {}
      },
      "source": [
        "import pandas as pd\n",
        "from collections import defaultdict\n",
        "import numpy as np \n",
        "import pandas as pd \n",
        "import matplotlib.pyplot as plt \n",
        "import seaborn as sns\n",
        "from collections import Counter\n",
        "from sklearn.metrics import multilabel_confusion_matrix"
      ],
      "execution_count": null,
      "outputs": []
    },
    {
      "cell_type": "code",
      "metadata": {
        "id": "upmu4BQrh4Xe",
        "colab_type": "code",
        "colab": {}
      },
      "source": [
        "dfx = pd.read_csv(\"dfx.csv\")"
      ],
      "execution_count": null,
      "outputs": []
    },
    {
      "cell_type": "markdown",
      "metadata": {
        "id": "UWhlIUuth4Xh",
        "colab_type": "text"
      },
      "source": [
        "Deleting one row MBC"
      ]
    },
    {
      "cell_type": "code",
      "metadata": {
        "id": "go0EiNAgh4Xh",
        "colab_type": "code",
        "colab": {}
      },
      "source": [
        "dfx_noMBC = dfx[dfx['Oncotree Code']!='MBC']"
      ],
      "execution_count": null,
      "outputs": []
    },
    {
      "cell_type": "code",
      "metadata": {
        "id": "-5ucj_U6h4Xk",
        "colab_type": "code",
        "colab": {}
      },
      "source": [
        "dfx.head()"
      ],
      "execution_count": null,
      "outputs": []
    },
    {
      "cell_type": "code",
      "metadata": {
        "id": "3MdbJbBTh4Xn",
        "colab_type": "code",
        "colab": {}
      },
      "source": [
        "dfx_only_onc = dfx_noMBC.drop(['Unnamed: 0','Cancer Type Detailed','ER Status','HER2 Status','Neoplasm Histologic Grade','Tumor Stage','PR Status','Tumor Size'],axis=1)"
      ],
      "execution_count": null,
      "outputs": []
    },
    {
      "cell_type": "code",
      "metadata": {
        "id": "gfhDv2Euh4Xq",
        "colab_type": "code",
        "colab": {}
      },
      "source": [
        "dfx_only_onc.head()\n",
        "#Where OncoTreeCode is NA\n",
        "# dfx_only_onc = dfx_only_onc[np.isfinite(dfx_only_onc['Oncotree Code'])]\n",
        "# dfx_only_onc['Oncotree Code'].isnull().values.any()\n",
        "dfx_only_onc = dfx_only_onc[pd.notnull(dfx_only_onc['Oncotree Code'])]\n",
        "dfx_only_onc['Oncotree Code'].isnull().values.any()"
      ],
      "execution_count": null,
      "outputs": []
    },
    {
      "cell_type": "code",
      "metadata": {
        "id": "gKJ4jdlth4Xt",
        "colab_type": "code",
        "colab": {}
      },
      "source": [
        "dfx_only_onc.head()"
      ],
      "execution_count": null,
      "outputs": []
    },
    {
      "cell_type": "code",
      "metadata": {
        "id": "Ms5Sa--sh4Xw",
        "colab_type": "code",
        "colab": {}
      },
      "source": [
        "X = dfx_only_onc.loc[:, dfx_only_onc.columns != 'Oncotree Code']\n",
        "Y = dfx_only_onc['Oncotree Code']\n",
        "X"
      ],
      "execution_count": null,
      "outputs": []
    },
    {
      "cell_type": "code",
      "metadata": {
        "scrolled": true,
        "id": "EtKi8A8Qh4Xz",
        "colab_type": "code",
        "colab": {}
      },
      "source": [
        "Y"
      ],
      "execution_count": null,
      "outputs": []
    },
    {
      "cell_type": "markdown",
      "metadata": {
        "id": "aPzMA94bh4X3",
        "colab_type": "text"
      },
      "source": [
        "Finding number of unique values"
      ]
    },
    {
      "cell_type": "code",
      "metadata": {
        "id": "Cfisg_7Vh4X3",
        "colab_type": "code",
        "colab": {}
      },
      "source": [
        "np.unique(Y, return_counts=True)"
      ],
      "execution_count": null,
      "outputs": []
    },
    {
      "cell_type": "markdown",
      "metadata": {
        "id": "-tDjlWGfh4X6",
        "colab_type": "text"
      },
      "source": [
        "Imputing missing values"
      ]
    },
    {
      "cell_type": "code",
      "metadata": {
        "id": "aWEh0hDeh4X6",
        "colab_type": "code",
        "colab": {}
      },
      "source": [
        "from sklearn.impute import SimpleImputer\n",
        "imp = SimpleImputer(missing_values=np.nan, strategy='mean')\n",
        "X_impu = imp.fit_transform(X)\n",
        "X_impu = pd.DataFrame(X_impu, columns=X.columns)\n"
      ],
      "execution_count": null,
      "outputs": []
    },
    {
      "cell_type": "code",
      "metadata": {
        "id": "xb8MA48Lh4X-",
        "colab_type": "code",
        "colab": {}
      },
      "source": [
        "X_impu"
      ],
      "execution_count": null,
      "outputs": []
    },
    {
      "cell_type": "markdown",
      "metadata": {
        "id": "B1GtdMqKh4YB",
        "colab_type": "text"
      },
      "source": [
        "Feature Selection"
      ]
    },
    {
      "cell_type": "markdown",
      "metadata": {
        "id": "CrMONqe3h4YB",
        "colab_type": "text"
      },
      "source": [
        "# Using 2000 features"
      ]
    },
    {
      "cell_type": "code",
      "metadata": {
        "id": "xcHLbsXAh4YB",
        "colab_type": "code",
        "colab": {}
      },
      "source": [
        "from sklearn.feature_selection import chi2\n",
        "from sklearn.feature_selection import SelectKBest\n",
        "selector = SelectKBest(chi2, k=2000)\n",
        "selector.fit(X_impu, Y)\n",
        "cols = selector.get_support(indices=True)\n",
        "X_new = X_impu.iloc[:,cols]\n"
      ],
      "execution_count": null,
      "outputs": []
    },
    {
      "cell_type": "code",
      "metadata": {
        "id": "7aY7El62h4YF",
        "colab_type": "code",
        "colab": {}
      },
      "source": [
        "data2k = X_new\n",
        "data2k['label'] = Y\n",
        "corr = data2k.corr()\n",
        "ax = sns.heatmap(\n",
        "    corr, \n",
        "    vmin=-1, vmax=1, center=0,\n",
        "    cmap=sns.diverging_palette(20, 220, n=200),\n",
        "    square=True\n",
        ")\n",
        "ax.set_xticklabels(\n",
        "    ax.get_xticklabels(),\n",
        "    rotation=45,\n",
        "    horizontalalignment='right'\n",
        ");"
      ],
      "execution_count": null,
      "outputs": []
    },
    {
      "cell_type": "code",
      "metadata": {
        "id": "13TTQEtAh4YI",
        "colab_type": "code",
        "colab": {}
      },
      "source": [
        "print(\"the shape of new data is: \",X_new.shape)"
      ],
      "execution_count": null,
      "outputs": []
    },
    {
      "cell_type": "markdown",
      "metadata": {
        "id": "QHhEmyFHh4YK",
        "colab_type": "text"
      },
      "source": [
        "Resampling"
      ]
    },
    {
      "cell_type": "code",
      "metadata": {
        "id": "3pxMqyUuh4YL",
        "colab_type": "code",
        "colab": {}
      },
      "source": [
        "from imblearn.over_sampling import SMOTE \n",
        "sm = SMOTE(random_state=42,k_neighbors=3, sampling_strategy='auto')\n",
        "X_s, y_s = sm.fit_resample(X_new, Y)\n",
        "print('Resampled dataset shape after running SMOTE algorithm for Data Oversampling %s' % Counter(y_s))\n",
        "# X_s['y'] = y_s\n",
        "dfffff = pd.DataFrame(X_s)\n",
        "dfffff = pd.concat([dfffff,y_s],axis=1)\n",
        "sns.countplot(dfffff['Oncotree Code'])"
      ],
      "execution_count": null,
      "outputs": []
    },
    {
      "cell_type": "code",
      "metadata": {
        "id": "pqPdLJ7_h4YO",
        "colab_type": "code",
        "colab": {}
      },
      "source": [
        "sns.countplot(dfx['Oncotree Code'])"
      ],
      "execution_count": null,
      "outputs": []
    },
    {
      "cell_type": "markdown",
      "metadata": {
        "id": "_hHTcbKmh4YR",
        "colab_type": "text"
      },
      "source": [
        "Training Testing Split"
      ]
    },
    {
      "cell_type": "code",
      "metadata": {
        "id": "WwSTvUWVh4YS",
        "colab_type": "code",
        "colab": {}
      },
      "source": [
        "from sklearn.model_selection import train_test_split\n",
        "from sklearn.metrics import mean_squared_error\n",
        "from sklearn.metrics import mean_absolute_error\n",
        "\n",
        "X_train, X_test, y_train, y_test = train_test_split(X_s, y_s, test_size=0.2)\n",
        "print (\"the shape of training data is \",X_train.shape, y_train.shape)\n",
        "print (\"the shape of testing data is \",X_test.shape, y_test.shape)"
      ],
      "execution_count": null,
      "outputs": []
    },
    {
      "cell_type": "code",
      "metadata": {
        "id": "d9fGhPNph4YV",
        "colab_type": "code",
        "colab": {}
      },
      "source": [
        "from sklearn.neural_network import MLPClassifier\n",
        "from sklearn.neighbors import KNeighborsClassifier\n",
        "from sklearn.svm import SVC\n",
        "from sklearn.gaussian_process import GaussianProcessClassifier\n",
        "from sklearn.gaussian_process.kernels import RBF\n",
        "from sklearn.tree import DecisionTreeClassifier\n",
        "from sklearn.ensemble import RandomForestClassifier, AdaBoostClassifier\n",
        "from sklearn.naive_bayes import GaussianNB\n",
        "from sklearn.discriminant_analysis import QuadraticDiscriminantAnalysis\n",
        "from sklearn.linear_model import LogisticRegression\n",
        "from sklearn.preprocessing import label_binarize\n",
        "from sklearn.multiclass import OneVsRestClassifier\n",
        "from sklearn.metrics import roc_curve, auc"
      ],
      "execution_count": null,
      "outputs": []
    },
    {
      "cell_type": "code",
      "metadata": {
        "id": "U7g2vxp7h4YX",
        "colab_type": "code",
        "colab": {}
      },
      "source": [
        "clf = SVC(kernel=\"linear\", C=0.025)\n",
        "#79 before\n",
        "clf.fit(X_train, y_train)\n",
        "y_pred = clf.predict(X_test)\n",
        "print(multilabel_confusion_matrix(y_test, y_pred, labels=['IDC','ILC','MDLC','BREAST','IMMC']))\n",
        "score = clf.score(X_test, y_test)\n",
        "\n",
        "print(score)\n"
      ],
      "execution_count": null,
      "outputs": []
    },
    {
      "cell_type": "code",
      "metadata": {
        "id": "7muT6-thh4YZ",
        "colab_type": "code",
        "colab": {}
      },
      "source": [
        "clf = SVC(kernel='rbf', gamma=0.001)\n",
        " #81.21 before, 0.715 0.05 gamma, 99.006 0.001 gamma\n",
        "clf.fit(X_train, y_train)\n",
        "y_pred = clf.predict(X_test)\n",
        "print(multilabel_confusion_matrix(y_test, y_pred, labels=['IDC','ILC','MDLC','BREAST','IMMC']))\n",
        "score = clf.score(X_test, y_test)\n",
        "print(score)"
      ],
      "execution_count": null,
      "outputs": []
    },
    {
      "cell_type": "code",
      "metadata": {
        "id": "gir2Kibyh4Yb",
        "colab_type": "code",
        "colab": {}
      },
      "source": [
        "clf = LogisticRegression()\n",
        "\n",
        "clf.fit(X_train, y_train)\n",
        "y_pred = clf.predict(X_test)\n",
        "print(multilabel_confusion_matrix(y_test, y_pred, labels=['IDC','ILC','MDLC','BREAST','IMMC']))\n",
        "score = clf.score(X_test, y_test)\n",
        "print(score)"
      ],
      "execution_count": null,
      "outputs": []
    },
    {
      "cell_type": "code",
      "metadata": {
        "id": "StZv3o0ch4Yd",
        "colab_type": "code",
        "colab": {}
      },
      "source": [
        "clf = RandomForestClassifier()\n",
        "clf.fit(X_train, y_train)\n",
        "y_pred = clf.predict(X_test)\n",
        "print(multilabel_confusion_matrix(y_test, y_pred, labels=['IDC','ILC','MDLC','BREAST','IMMC']))\n",
        "score = clf.score(X_test, y_test)\n",
        "print(score)"
      ],
      "execution_count": null,
      "outputs": []
    },
    {
      "cell_type": "code",
      "metadata": {
        "id": "i4Z5y7Xqh4Yg",
        "colab_type": "code",
        "colab": {}
      },
      "source": [
        "clf = GaussianNB()\n",
        "#0.568 before\n",
        "clf.fit(X_train, y_train)\n",
        "y_pred = clf.predict(X_test)\n",
        "print(multilabel_confusion_matrix(y_test, y_pred, labels=['IDC','ILC','MDLC','BREAST','IMMC']))\n",
        "score = clf.score(X_test, y_test)\n",
        "print(score)"
      ],
      "execution_count": null,
      "outputs": []
    },
    {
      "cell_type": "markdown",
      "metadata": {
        "id": "BRH3vNtTh4Yi",
        "colab_type": "text"
      },
      "source": [
        "### Ensemble "
      ]
    },
    {
      "cell_type": "code",
      "metadata": {
        "id": "ggP2gJ1zh4Yj",
        "colab_type": "code",
        "colab": {}
      },
      "source": [
        "from sklearn.ensemble import VotingClassifier\n",
        "from sklearn.ensemble import BaggingClassifier, ExtraTreesClassifier, RandomForestClassifier\n",
        "from sklearn.linear_model import LogisticRegression\n",
        "from sklearn.svm import SVC\n",
        "from sklearn.tree import DecisionTreeClassifier\n",
        "from sklearn.ensemble import AdaBoostClassifier"
      ],
      "execution_count": null,
      "outputs": []
    },
    {
      "cell_type": "code",
      "metadata": {
        "id": "91skITRDh4Ym",
        "colab_type": "code",
        "colab": {}
      },
      "source": [
        "lr = LogisticRegression(max_iter = 20)\n",
        "svm_linear = SVC(kernel='linear',C=0.025)\n",
        "rf = RandomForestClassifier()\n",
        "svm = SVC(kernel = 'rbf', gamma=0.001)\n",
        "evc = VotingClassifier( estimators= [('svm_linear',svm_linear),('lr',lr),('svm',svm),('rf',rf)], voting = 'hard')\n",
        "evc.fit(X_train,y_train)\n",
        "evc.score(X_test, y_test)"
      ],
      "execution_count": null,
      "outputs": []
    },
    {
      "cell_type": "code",
      "metadata": {
        "id": "tL5kwG_Kh4Yo",
        "colab_type": "code",
        "colab": {}
      },
      "source": [
        "y_pred = evc.predict(X_test)\n",
        "print(multilabel_confusion_matrix(y_test, y_pred, labels=['IDC','ILC','MDLC','BREAST','IMMC']))\n"
      ],
      "execution_count": null,
      "outputs": []
    },
    {
      "cell_type": "markdown",
      "metadata": {
        "id": "Hot-VZ-Bh4Yq",
        "colab_type": "text"
      },
      "source": [
        "# Using 5000 features"
      ]
    },
    {
      "cell_type": "code",
      "metadata": {
        "id": "0QpsJRUZh4Yq",
        "colab_type": "code",
        "colab": {}
      },
      "source": [
        "from sklearn.feature_selection import chi2\n",
        "from sklearn.feature_selection import SelectKBest\n",
        "selector = SelectKBest(chi2, k=5000)\n",
        "selector.fit(X_impu, Y)\n",
        "cols = selector.get_support(indices=True)\n",
        "X_new = X_impu.iloc[:,cols]"
      ],
      "execution_count": null,
      "outputs": []
    },
    {
      "cell_type": "code",
      "metadata": {
        "id": "XkrMb6dsh4Ys",
        "colab_type": "code",
        "colab": {}
      },
      "source": [
        "print(\"the shape of new data is: \",X_new.shape)"
      ],
      "execution_count": null,
      "outputs": []
    },
    {
      "cell_type": "markdown",
      "metadata": {
        "id": "EzUARzrah4Yv",
        "colab_type": "text"
      },
      "source": [
        "Resampling"
      ]
    },
    {
      "cell_type": "code",
      "metadata": {
        "id": "vr6Aq-HMh4Yw",
        "colab_type": "code",
        "colab": {}
      },
      "source": [
        "from imblearn.over_sampling import SMOTE \n",
        "sm = SMOTE(random_state=42,k_neighbors=3, sampling_strategy='auto')\n",
        "X_s, y_s = sm.fit_resample(X_new, Y)\n",
        "print('Resampled dataset shape after running SMOTE algorithm for Data Oversampling %s' % Counter(y_s))"
      ],
      "execution_count": null,
      "outputs": []
    },
    {
      "cell_type": "markdown",
      "metadata": {
        "id": "msKqqCW8h4Yy",
        "colab_type": "text"
      },
      "source": [
        "Training Testing Split"
      ]
    },
    {
      "cell_type": "code",
      "metadata": {
        "id": "odxHou4zh4Yy",
        "colab_type": "code",
        "colab": {}
      },
      "source": [
        "from sklearn.model_selection import train_test_split\n",
        "from sklearn.metrics import mean_squared_error\n",
        "from sklearn.metrics import mean_absolute_error\n",
        "\n",
        "X_train, X_test, y_train, y_test = train_test_split(X_s, y_s, test_size=0.2)\n",
        "print (\"the shape of training data is \",X_train.shape, y_train.shape)\n",
        "print (\"the shape of testing data is \",X_test.shape, y_test.shape)"
      ],
      "execution_count": null,
      "outputs": []
    },
    {
      "cell_type": "code",
      "metadata": {
        "id": "0QmoGkMHh4Y0",
        "colab_type": "code",
        "colab": {}
      },
      "source": [
        "from sklearn.neural_network import MLPClassifier\n",
        "from sklearn.neighbors import KNeighborsClassifier\n",
        "from sklearn.svm import SVC\n",
        "from sklearn.gaussian_process import GaussianProcessClassifier\n",
        "from sklearn.gaussian_process.kernels import RBF\n",
        "from sklearn.tree import DecisionTreeClassifier\n",
        "from sklearn.ensemble import RandomForestClassifier, AdaBoostClassifier\n",
        "from sklearn.naive_bayes import GaussianNB\n",
        "from sklearn.discriminant_analysis import QuadraticDiscriminantAnalysis\n",
        "from sklearn.linear_model import LogisticRegression"
      ],
      "execution_count": null,
      "outputs": []
    },
    {
      "cell_type": "code",
      "metadata": {
        "id": "W_baM_K9h4Y5",
        "colab_type": "code",
        "colab": {}
      },
      "source": [
        "clf = RandomForestClassifier()\n",
        "clf.fit(X_train, y_train)\n",
        "y_pred = clf.predict(X_test)\n",
        "print(multilabel_confusion_matrix(y_test, y_pred, labels=['IDC','ILC','MDLC','BREAST','IMMC']))\n",
        "score = clf.score(X_test, y_test)\n",
        "print(score)"
      ],
      "execution_count": null,
      "outputs": []
    },
    {
      "cell_type": "code",
      "metadata": {
        "id": "2moOxlcuh4Y7",
        "colab_type": "code",
        "colab": {}
      },
      "source": [
        "feature_importances = zip(cols, clf.feature_importances_)\n",
        "feature_importances = sorted(feature_importances, key = lambda x:x[1],reverse = True)\n",
        "for x, y in feature_importances[:10]:\n",
        "    print (dfx.columns[x],y)"
      ],
      "execution_count": null,
      "outputs": []
    },
    {
      "cell_type": "code",
      "metadata": {
        "id": "LiPx22cwh4Y9",
        "colab_type": "code",
        "colab": {}
      },
      "source": [
        "clf = SVC(kernel=\"linear\", C=0.025)\n",
        "#79 before\n",
        "clf.fit(X_train, y_train)\n",
        "y_pred = clf.predict(X_test)\n",
        "print(multilabel_confusion_matrix(y_test, y_pred, labels=['IDC','ILC','MDLC','BREAST','IMMC']))\n",
        "score = clf.score(X_test, y_test)\n",
        "print(score)"
      ],
      "execution_count": null,
      "outputs": []
    },
    {
      "cell_type": "code",
      "metadata": {
        "id": "vpVlAtlnh4ZA",
        "colab_type": "code",
        "colab": {}
      },
      "source": [
        "clf = SVC(kernel='rbf', gamma=0.001)\n",
        " #81.21 before, 0.715 0.05 gamma, 99.006 0.001 gamma\n",
        "clf.fit(X_train, y_train)\n",
        "y_pred = clf.predict(X_test)\n",
        "print(multilabel_confusion_matrix(y_test, y_pred, labels=['IDC','ILC','MDLC','BREAST','IMMC']))\n",
        "score = clf.score(X_test, y_test)\n",
        "print(score)"
      ],
      "execution_count": null,
      "outputs": []
    },
    {
      "cell_type": "code",
      "metadata": {
        "id": "AZCl7lTeh4ZC",
        "colab_type": "code",
        "colab": {}
      },
      "source": [
        "clf = LogisticRegression()\n",
        "\n",
        "clf.fit(X_train, y_train)\n",
        "score = clf.score(X_test, y_test)\n",
        "y_pred = clf.predict(X_test)\n",
        "print(multilabel_confusion_matrix(y_test, y_pred, labels=['IDC','ILC','MDLC','BREAST','IMMC']))\n",
        "print(score)"
      ],
      "execution_count": null,
      "outputs": []
    },
    {
      "cell_type": "code",
      "metadata": {
        "id": "9wwJNi0Dh4ZG",
        "colab_type": "code",
        "colab": {}
      },
      "source": [
        "clf = GaussianNB()\n",
        "#0.568 before\n",
        "clf.fit(X_train, y_train)\n",
        "y_pred = clf.predict(X_test)\n",
        "print(multilabel_confusion_matrix(y_test, y_pred, labels=['IDC','ILC','MDLC','BREAST','IMMC']))\n",
        "score = clf.score(X_test, y_test)\n",
        "\n",
        "print(score)"
      ],
      "execution_count": null,
      "outputs": []
    },
    {
      "cell_type": "markdown",
      "metadata": {
        "id": "M9BNJjllh4ZI",
        "colab_type": "text"
      },
      "source": [
        "### Ensemble "
      ]
    },
    {
      "cell_type": "code",
      "metadata": {
        "id": "TgDKPOoeh4ZI",
        "colab_type": "code",
        "colab": {}
      },
      "source": [
        "from sklearn.ensemble import VotingClassifier\n",
        "from sklearn.ensemble import BaggingClassifier, ExtraTreesClassifier, RandomForestClassifier, AdaBoostClassifier\n",
        "from sklearn.linear_model import LogisticRegression\n",
        "from sklearn.svm import SVC\n",
        "from sklearn.tree import DecisionTreeClassifier\n"
      ],
      "execution_count": null,
      "outputs": []
    },
    {
      "cell_type": "code",
      "metadata": {
        "id": "rzpXAkVPh4ZN",
        "colab_type": "code",
        "colab": {}
      },
      "source": [
        "lr = LogisticRegression(max_iter = 20)\n",
        "rf = RandomForestClassifier()\n",
        "\n",
        "svm_linear = SVC(kernel='linear',C=0.025)\n",
        "svm = SVC(kernel = 'rbf', gamma=0.001)\n",
        "evc = VotingClassifier( estimators= [('svm_linear',svm_linear),('lr',lr),('svm',svm),('rf',rf)], voting = 'hard')\n",
        "evc.fit(X_train,y_train)\n",
        "evc.score(X_test, y_test)"
      ],
      "execution_count": null,
      "outputs": []
    },
    {
      "cell_type": "code",
      "metadata": {
        "id": "cjCsNo_6h4ZP",
        "colab_type": "code",
        "colab": {}
      },
      "source": [
        "y_pred = evc.predict(X_test)\n",
        "print(multilabel_confusion_matrix(y_test, y_pred, labels=['IDC','ILC','MDLC','BREAST','IMMC']))\n"
      ],
      "execution_count": null,
      "outputs": []
    },
    {
      "cell_type": "markdown",
      "metadata": {
        "id": "R29QTMf-h4ZS",
        "colab_type": "text"
      },
      "source": [
        "# Dimensionality Reduction and Plot"
      ]
    },
    {
      "cell_type": "code",
      "metadata": {
        "id": "4GLAoqTJh4ZT",
        "colab_type": "code",
        "colab": {}
      },
      "source": [
        "from sklearn.decomposition import KernelPCA,PCA\n",
        "pca = PCA(n_components=3)\n",
        "X_reduced = pca.fit_transform(X_impu)\n",
        "X_reduced.shape"
      ],
      "execution_count": null,
      "outputs": []
    },
    {
      "cell_type": "code",
      "metadata": {
        "id": "rE8CqKm3h4ZV",
        "colab_type": "code",
        "colab": {}
      },
      "source": [
        "y_num = Y.apply(['IDC','ILC','MDLC','BREAST','IMMC'].index)"
      ],
      "execution_count": null,
      "outputs": []
    },
    {
      "cell_type": "code",
      "metadata": {
        "id": "N-nyaVSxh4Za",
        "colab_type": "code",
        "colab": {}
      },
      "source": [
        "x_nen=pd.DataFrame(data=X_reduced[0:,0:],index=[i for i in range(X_reduced.shape[0])],columns=['f'+str(i) for i in range(X_reduced.shape[1])])"
      ],
      "execution_count": null,
      "outputs": []
    },
    {
      "cell_type": "code",
      "metadata": {
        "id": "6DGmFycdh4Zd",
        "colab_type": "code",
        "colab": {}
      },
      "source": [
        "x_nen['y'] = y_num"
      ],
      "execution_count": null,
      "outputs": []
    },
    {
      "cell_type": "code",
      "metadata": {
        "id": "h_slPSVah4Zf",
        "colab_type": "code",
        "colab": {}
      },
      "source": [
        "idcs = x_nen[x_nen.y == 0].iloc[:500,:]\n",
        "ilcs = x_nen[x_nen.y == 1]\n",
        "mdlcs = x_nen[x_nen.y == 2]\n",
        "brs = x_nen[x_nen.y == 3]\n",
        "immcs = x_nen[x_nen.y == 4]\n",
        "# mdlcs.shape"
      ],
      "execution_count": null,
      "outputs": []
    },
    {
      "cell_type": "code",
      "metadata": {
        "id": "-TDKUAjhh4Zk",
        "colab_type": "code",
        "colab": {}
      },
      "source": [
        "import matplotlib.pyplot as plt\n",
        "from mpl_toolkits.mplot3d import Axes3D\n",
        "\n",
        "fig = plt.figure()\n",
        "ax = fig.add_subplot(111,projection='3d')\n",
        "ax.scatter(idcs.iloc[:,0],idcs.iloc[:,1],idcs.iloc[:,2],c='r',marker='^',label='IDC')\n",
        "ax.scatter(ilcs.iloc[:,0],ilcs.iloc[:,1],ilcs.iloc[:,2],c='green',marker='v',label='ILC')\n",
        "ax.scatter(mdlcs.iloc[:,0],mdlcs.iloc[:,1],mdlcs.iloc[:,2],c='blue',marker='o',label='MDLC')\n",
        "ax.scatter(brs.iloc[:,0],brs.iloc[:,1],brs.iloc[:,2],c='black',marker='d',label='BREAST')\n",
        "ax.scatter(immcs.iloc[:,0],immcs.iloc[:,1],immcs.iloc[:,2],c='yellow',marker='>',label='IMMC')\n",
        "\n",
        "\n",
        "ax.view_init(40, 90)\n",
        "ax.legend()\n",
        "plt.savefig('OncoPCA.png')"
      ],
      "execution_count": null,
      "outputs": []
    },
    {
      "cell_type": "markdown",
      "metadata": {
        "id": "ZuFbi3TMh4Zm",
        "colab_type": "text"
      },
      "source": [
        "# Using resampled data"
      ]
    },
    {
      "cell_type": "code",
      "metadata": {
        "id": "1hWLRMuth4Zn",
        "colab_type": "code",
        "colab": {}
      },
      "source": [
        "from sklearn.decomposition import KernelPCA,PCA\n",
        "pca = PCA(n_components=3)\n",
        "X_reduced = pca.fit_transform(X_s)\n",
        "X_reduced.shape"
      ],
      "execution_count": null,
      "outputs": []
    },
    {
      "cell_type": "code",
      "metadata": {
        "id": "eWUdH6keh4Zp",
        "colab_type": "code",
        "colab": {}
      },
      "source": [
        "y_num = y_s.apply(['IDC','ILC','MDLC','BREAST','IMMC'].index)"
      ],
      "execution_count": null,
      "outputs": []
    },
    {
      "cell_type": "code",
      "metadata": {
        "id": "Q0zO950mh4Zs",
        "colab_type": "code",
        "colab": {}
      },
      "source": [
        "x_nen=pd.DataFrame(data=X_reduced[0:,0:],index=[i for i in range(X_reduced.shape[0])],columns=['f'+str(i) for i in range(X_reduced.shape[1])])"
      ],
      "execution_count": null,
      "outputs": []
    },
    {
      "cell_type": "code",
      "metadata": {
        "id": "_riUkIxYh4Zu",
        "colab_type": "code",
        "colab": {}
      },
      "source": [
        "y_num"
      ],
      "execution_count": null,
      "outputs": []
    },
    {
      "cell_type": "code",
      "metadata": {
        "id": "hPnldqqBh4Zy",
        "colab_type": "code",
        "colab": {}
      },
      "source": [
        "x_nen['y'] = y_num"
      ],
      "execution_count": null,
      "outputs": []
    },
    {
      "cell_type": "code",
      "metadata": {
        "id": "yS30wEAmh4Z0",
        "colab_type": "code",
        "colab": {}
      },
      "source": [
        "idcs = x_nen[x_nen.y == 0]\n",
        "ilcs = x_nen[x_nen.y == 1]\n",
        "mdlcs = x_nen[x_nen.y == 2]\n",
        "brs = x_nen[x_nen.y == 3]\n",
        "immcs = x_nen[x_nen.y == 4]\n",
        "ilcs.shape"
      ],
      "execution_count": null,
      "outputs": []
    },
    {
      "cell_type": "code",
      "metadata": {
        "id": "rjnvKvP7h4Z3",
        "colab_type": "code",
        "colab": {}
      },
      "source": [
        "import matplotlib.pyplot as plt\n",
        "from mpl_toolkits.mplot3d import Axes3D\n",
        "\n",
        "fig = plt.figure()\n",
        "ax = fig.add_subplot(111,projection='3d')\n",
        "ax.scatter(idcs.iloc[:,0],idcs.iloc[:,1],idcs.iloc[:,2],c='r',marker='^',label='IDC')\n",
        "ax.scatter(ilcs.iloc[:,0],ilcs.iloc[:,1],ilcs.iloc[:,2],c='green',marker='v',label='ILC')\n",
        "ax.scatter(mdlcs.iloc[:,0],mdlcs.iloc[:,1],mdlcs.iloc[:,2],c='blue',marker='o',label='MDLC')\n",
        "ax.scatter(brs.iloc[:,0],brs.iloc[:,1],brs.iloc[:,2],c='black',marker='d',label='BREAST')\n",
        "ax.scatter(immcs.iloc[:,0],immcs.iloc[:,1],immcs.iloc[:,2],c='yellow',marker='>',label='IMMC')\n",
        "\n",
        "\n",
        "ax.view_init(50, 20)\n",
        "\n",
        "ax.legend(scatterpoints=1,\n",
        "           loc='lower left',\n",
        "           ncol=3,\n",
        "           fontsize=8)\n",
        "\n",
        "plt.savefig('OncoSMOTE.png')"
      ],
      "execution_count": null,
      "outputs": []
    },
    {
      "cell_type": "code",
      "metadata": {
        "id": "QQUx7WG2h4Z5",
        "colab_type": "code",
        "colab": {}
      },
      "source": [
        ""
      ],
      "execution_count": null,
      "outputs": []
    }
  ]
}