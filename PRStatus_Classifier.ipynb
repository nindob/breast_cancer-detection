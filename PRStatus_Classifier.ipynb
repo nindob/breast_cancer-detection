{
  "nbformat": 4,
  "nbformat_minor": 0,
  "metadata": {
    "kernelspec": {
      "display_name": "Python 3",
      "language": "python",
      "name": "python3"
    },
    "language_info": {
      "codemirror_mode": {
        "name": "ipython",
        "version": 3
      },
      "file_extension": ".py",
      "mimetype": "text/x-python",
      "name": "python",
      "nbconvert_exporter": "python",
      "pygments_lexer": "ipython3",
      "version": "3.5.0"
    },
    "colab": {
      "name": "PRStatus Classifier.ipynb",
      "provenance": []
    }
  },
  "cells": [
    {
      "cell_type": "code",
      "metadata": {
        "id": "JBt5nV8ECDhe",
        "colab_type": "code",
        "colab": {}
      },
      "source": [
        "import pandas as pd\n",
        "from collections import defaultdict\n",
        "import numpy as np \n",
        "import pandas as pd \n",
        "import matplotlib.pyplot as plt \n",
        "import seaborn as sns\n",
        "from collections import Counter\n",
        "from sklearn.metrics import multilabel_confusion_matrix"
      ],
      "execution_count": null,
      "outputs": []
    },
    {
      "cell_type": "code",
      "metadata": {
        "id": "xDpJCNnjCDhj",
        "colab_type": "code",
        "colab": {}
      },
      "source": [
        "dfx = pd.read_csv(\"dfx.csv\")"
      ],
      "execution_count": null,
      "outputs": []
    },
    {
      "cell_type": "code",
      "metadata": {
        "id": "xf3LIU4ICDhm",
        "colab_type": "code",
        "colab": {}
      },
      "source": [
        "dfx.head()"
      ],
      "execution_count": null,
      "outputs": []
    },
    {
      "cell_type": "code",
      "metadata": {
        "id": "fXiKLcULCDhq",
        "colab_type": "code",
        "colab": {}
      },
      "source": [
        "dfx_only_pr = dfx.drop(['Unnamed: 0','Cancer Type Detailed','ER Status','HER2 Status','Neoplasm Histologic Grade','Tumor Stage','Oncotree Code','Tumor Size'],axis=1)"
      ],
      "execution_count": null,
      "outputs": []
    },
    {
      "cell_type": "code",
      "metadata": {
        "id": "1cXJsnjJCDht",
        "colab_type": "code",
        "colab": {}
      },
      "source": [
        "dfx_only_pr.head()\n",
        "#Where OncoTreeCode is NA\n",
        "# dfx_only_onc = dfx_only_onc[np.isfinite(dfx_only_onc['Oncotree Code'])]\n",
        "# dfx_only_onc['Oncotree Code'].isnull().values.any()\n",
        "dfx_only_pr = dfx_only_pr[pd.notnull(dfx_only_pr['PR Status'])]\n",
        "dfx_only_pr['PR Status'].isnull().values.any()"
      ],
      "execution_count": null,
      "outputs": []
    },
    {
      "cell_type": "code",
      "metadata": {
        "id": "epNuixk5CDhw",
        "colab_type": "code",
        "colab": {}
      },
      "source": [
        "dfx_only_pr.head()"
      ],
      "execution_count": null,
      "outputs": []
    },
    {
      "cell_type": "code",
      "metadata": {
        "scrolled": true,
        "id": "nhHNnZgBCDhz",
        "colab_type": "code",
        "colab": {}
      },
      "source": [
        "X = dfx_only_pr.loc[:, dfx_only_pr.columns != 'PR Status']\n",
        "Y = dfx_only_pr['PR Status']\n",
        "X"
      ],
      "execution_count": null,
      "outputs": []
    },
    {
      "cell_type": "code",
      "metadata": {
        "id": "LnSvM8snCDh2",
        "colab_type": "code",
        "colab": {}
      },
      "source": [
        "Y"
      ],
      "execution_count": null,
      "outputs": []
    },
    {
      "cell_type": "markdown",
      "metadata": {
        "id": "q1_eM9vNCDh5",
        "colab_type": "text"
      },
      "source": [
        "Finding number of unique values"
      ]
    },
    {
      "cell_type": "code",
      "metadata": {
        "id": "txmjW0r5CDh6",
        "colab_type": "code",
        "colab": {}
      },
      "source": [
        "np.unique(Y, return_counts=True)"
      ],
      "execution_count": null,
      "outputs": []
    },
    {
      "cell_type": "markdown",
      "metadata": {
        "id": "H6jao9s3CDh8",
        "colab_type": "text"
      },
      "source": [
        "Imputing missing values"
      ]
    },
    {
      "cell_type": "code",
      "metadata": {
        "id": "YOaZVMoxCDh9",
        "colab_type": "code",
        "colab": {}
      },
      "source": [
        "from sklearn.impute import SimpleImputer\n",
        "imp = SimpleImputer(missing_values=np.nan, strategy='mean')\n",
        "X_impu = imp.fit_transform(X)\n",
        "X_impu = pd.DataFrame(X_impu, columns=X.columns)\n"
      ],
      "execution_count": null,
      "outputs": []
    },
    {
      "cell_type": "code",
      "metadata": {
        "id": "XiIdxD31CDh_",
        "colab_type": "code",
        "colab": {}
      },
      "source": [
        "X_impu"
      ],
      "execution_count": null,
      "outputs": []
    },
    {
      "cell_type": "markdown",
      "metadata": {
        "id": "abWQ4HoZCDiC",
        "colab_type": "text"
      },
      "source": [
        "Feature Selection"
      ]
    },
    {
      "cell_type": "markdown",
      "metadata": {
        "id": "UA1wq726CDiD",
        "colab_type": "text"
      },
      "source": [
        "# Using 2000 features"
      ]
    },
    {
      "cell_type": "code",
      "metadata": {
        "id": "UBolR8HoCDiD",
        "colab_type": "code",
        "colab": {}
      },
      "source": [
        "from sklearn.feature_selection import chi2\n",
        "from sklearn.feature_selection import SelectKBest\n",
        "selector = SelectKBest(chi2, k=2000)\n",
        "selector.fit(X_impu, Y)\n",
        "cols = selector.get_support(indices=True)\n",
        "X_new = X_impu.iloc[:,cols]\n",
        "# X_new"
      ],
      "execution_count": null,
      "outputs": []
    },
    {
      "cell_type": "code",
      "metadata": {
        "id": "L-QItW39CDiG",
        "colab_type": "code",
        "colab": {}
      },
      "source": [
        "print(\"the shape of new data is: \",X_new.shape)"
      ],
      "execution_count": null,
      "outputs": []
    },
    {
      "cell_type": "markdown",
      "metadata": {
        "id": "suzb8k-OCDiK",
        "colab_type": "text"
      },
      "source": [
        "Resampling"
      ]
    },
    {
      "cell_type": "code",
      "metadata": {
        "id": "baK57JIVCDiK",
        "colab_type": "code",
        "colab": {}
      },
      "source": [
        "from imblearn.over_sampling import SMOTE \n",
        "sm = SMOTE(random_state=42,k_neighbors=3, sampling_strategy='auto')\n",
        "X_s, y_s = sm.fit_resample(X_new, Y)\n",
        "print('Resampled dataset shape after running SMOTE algorithm for Data Oversampling %s' % Counter(y_s))"
      ],
      "execution_count": null,
      "outputs": []
    },
    {
      "cell_type": "markdown",
      "metadata": {
        "id": "CnpqS0NbCDiN",
        "colab_type": "text"
      },
      "source": [
        "Training Testing Split"
      ]
    },
    {
      "cell_type": "code",
      "metadata": {
        "id": "nb1dmbWcCDiN",
        "colab_type": "code",
        "colab": {}
      },
      "source": [
        "from sklearn.model_selection import train_test_split\n",
        "from sklearn.metrics import mean_squared_error\n",
        "from sklearn.metrics import mean_absolute_error\n",
        "\n",
        "X_train, X_test, y_train, y_test = train_test_split(X_s, y_s, test_size=0.2)\n",
        "print (\"the shape of training data is \",X_train.shape, y_train.shape)\n",
        "print (\"the shape of testing data is \",X_test.shape, y_test.shape)"
      ],
      "execution_count": null,
      "outputs": []
    },
    {
      "cell_type": "code",
      "metadata": {
        "id": "NyzWkYAcCDiQ",
        "colab_type": "code",
        "colab": {}
      },
      "source": [
        "from sklearn.neural_network import MLPClassifier\n",
        "from sklearn.neighbors import KNeighborsClassifier\n",
        "from sklearn.svm import SVC\n",
        "from sklearn.gaussian_process import GaussianProcessClassifier\n",
        "from sklearn.gaussian_process.kernels import RBF\n",
        "from sklearn.tree import DecisionTreeClassifier\n",
        "from sklearn.ensemble import RandomForestClassifier, AdaBoostClassifier\n",
        "from sklearn.naive_bayes import GaussianNB\n",
        "from sklearn.discriminant_analysis import QuadraticDiscriminantAnalysis\n",
        "from sklearn.linear_model import LogisticRegression\n",
        "from sklearn.preprocessing import label_binarize\n",
        "from sklearn.multiclass import OneVsRestClassifier\n",
        "from sklearn.metrics import roc_curve, auc"
      ],
      "execution_count": null,
      "outputs": []
    },
    {
      "cell_type": "code",
      "metadata": {
        "id": "BBXLjpiICDiS",
        "colab_type": "code",
        "colab": {}
      },
      "source": [
        "clf = SVC(kernel=\"linear\", C=0.025)\n",
        "#79 before\n",
        "clf.fit(X_train, y_train)\n",
        "y_pred = clf.predict(X_test)\n",
        "print(multilabel_confusion_matrix(y_test, y_pred, labels=['Positive', 'Negative']))\n",
        "score = clf.score(X_test, y_test)\n",
        "\n",
        "print(score)\n"
      ],
      "execution_count": null,
      "outputs": []
    },
    {
      "cell_type": "code",
      "metadata": {
        "id": "DU672t3LCDiX",
        "colab_type": "code",
        "colab": {}
      },
      "source": [
        "clf = SVC(kernel='rbf', gamma=0.0006)\n",
        " #81.21 before, 0.715 0.05 gamma, 99.006 0.001 gamma\n",
        "clf.fit(X_train, y_train)\n",
        "y_pred = clf.predict(X_test)\n",
        "print(multilabel_confusion_matrix(y_test, y_pred, labels=['Positive', 'Negative']))\n",
        "score = clf.score(X_test, y_test)\n",
        "print(score)"
      ],
      "execution_count": null,
      "outputs": []
    },
    {
      "cell_type": "code",
      "metadata": {
        "id": "K5KMju9yCDiZ",
        "colab_type": "code",
        "colab": {}
      },
      "source": [
        "clf = LogisticRegression()\n",
        "\n",
        "clf.fit(X_train, y_train)\n",
        "y_pred = clf.predict(X_test)\n",
        "print(multilabel_confusion_matrix(y_test, y_pred, labels=['Positive', 'Negative']))\n",
        "score = clf.score(X_test, y_test)\n",
        "print(score)"
      ],
      "execution_count": null,
      "outputs": []
    },
    {
      "cell_type": "code",
      "metadata": {
        "id": "dYimceQ2CDic",
        "colab_type": "code",
        "colab": {}
      },
      "source": [
        "clf = GaussianNB()\n",
        "#0.568 before\n",
        "clf.fit(X_train, y_train)\n",
        "y_pred = clf.predict(X_test)\n",
        "print(multilabel_confusion_matrix(y_test, y_pred, labels=['Positive', 'Negative']))\n",
        "score = clf.score(X_test, y_test)\n",
        "print(score)"
      ],
      "execution_count": null,
      "outputs": []
    },
    {
      "cell_type": "markdown",
      "metadata": {
        "id": "pDkBaMUfCDie",
        "colab_type": "text"
      },
      "source": [
        "### Ensemble "
      ]
    },
    {
      "cell_type": "code",
      "metadata": {
        "id": "NAHU30tHCDie",
        "colab_type": "code",
        "colab": {}
      },
      "source": [
        "from sklearn.ensemble import VotingClassifier\n",
        "from sklearn.ensemble import BaggingClassifier, ExtraTreesClassifier, RandomForestClassifier\n",
        "from sklearn.linear_model import LogisticRegression\n",
        "from sklearn.svm import SVC\n",
        "from sklearn.tree import DecisionTreeClassifier\n",
        "from sklearn.ensemble import AdaBoostClassifier"
      ],
      "execution_count": null,
      "outputs": []
    },
    {
      "cell_type": "code",
      "metadata": {
        "id": "hc0VlNHECDih",
        "colab_type": "code",
        "colab": {}
      },
      "source": [
        "lr = LogisticRegression(max_iter = 20)\n",
        "svm_linear = SVC(kernel='linear',C=0.025)\n",
        "svm = SVC(kernel = 'rbf', gamma=0.001)\n",
        "evc = VotingClassifier( estimators= [('svm_linear',svm_linear),('lr',lr),('svm',svm)], voting = 'hard')\n",
        "evc.fit(X_train,y_train)\n",
        "evc.score(X_test, y_test)"
      ],
      "execution_count": null,
      "outputs": []
    },
    {
      "cell_type": "code",
      "metadata": {
        "id": "jN705Op6CDij",
        "colab_type": "code",
        "colab": {}
      },
      "source": [
        "y_pred = evc.predict(X_test)\n",
        "print(multilabel_confusion_matrix(y_test, y_pred, labels=['Positive', 'Negative']))\n"
      ],
      "execution_count": null,
      "outputs": []
    },
    {
      "cell_type": "markdown",
      "metadata": {
        "id": "yFpAMQaICDim",
        "colab_type": "text"
      },
      "source": [
        "# Using 5000 features"
      ]
    },
    {
      "cell_type": "code",
      "metadata": {
        "id": "bJAmEqOkCDim",
        "colab_type": "code",
        "colab": {}
      },
      "source": [
        "from sklearn.feature_selection import chi2\n",
        "from sklearn.feature_selection import SelectKBest\n",
        "selector = SelectKBest(chi2, k=5000)\n",
        "selector.fit(X_impu, Y)\n",
        "cols = selector.get_support(indices=True)\n",
        "X_new = X_impu.iloc[:,cols]"
      ],
      "execution_count": null,
      "outputs": []
    },
    {
      "cell_type": "code",
      "metadata": {
        "id": "uGDcf_hUCDip",
        "colab_type": "code",
        "colab": {}
      },
      "source": [
        "print(\"the shape of new data is: \",X_new.shape)"
      ],
      "execution_count": null,
      "outputs": []
    },
    {
      "cell_type": "markdown",
      "metadata": {
        "id": "BUz-de71CDis",
        "colab_type": "text"
      },
      "source": [
        "Resampling"
      ]
    },
    {
      "cell_type": "code",
      "metadata": {
        "id": "LRC7JPOLCDit",
        "colab_type": "code",
        "colab": {}
      },
      "source": [
        "from imblearn.over_sampling import SMOTE \n",
        "sm = SMOTE(random_state=42,k_neighbors=3, sampling_strategy='auto')\n",
        "X_s, y_s = sm.fit_resample(X_new, Y)\n",
        "print('Resampled dataset shape after running SMOTE algorithm for Data Oversampling %s' % Counter(y_s))\n",
        "dfffff = pd.DataFrame(X_s)\n",
        "dfffff = pd.concat([dfffff,y_s],axis=1)\n",
        "sns.countplot(dfffff['PR Status'])"
      ],
      "execution_count": null,
      "outputs": []
    },
    {
      "cell_type": "code",
      "metadata": {
        "id": "22-wH2nBCDiv",
        "colab_type": "code",
        "colab": {}
      },
      "source": [
        "sns.countplot(dfx['PR Status'])"
      ],
      "execution_count": null,
      "outputs": []
    },
    {
      "cell_type": "markdown",
      "metadata": {
        "id": "8g8x63lQCDix",
        "colab_type": "text"
      },
      "source": [
        "Training Testing Split"
      ]
    },
    {
      "cell_type": "code",
      "metadata": {
        "id": "A1t-MPVJCDix",
        "colab_type": "code",
        "colab": {}
      },
      "source": [
        "from sklearn.model_selection import train_test_split\n",
        "from sklearn.metrics import mean_squared_error\n",
        "from sklearn.metrics import mean_absolute_error\n",
        "\n",
        "X_train, X_test, y_train, y_test = train_test_split(X_s, y_s, test_size=0.2)\n",
        "print (\"the shape of training data is \",X_train.shape, y_train.shape)\n",
        "print (\"the shape of testing data is \",X_test.shape, y_test.shape)"
      ],
      "execution_count": null,
      "outputs": []
    },
    {
      "cell_type": "code",
      "metadata": {
        "id": "A5EqE1ULCDi0",
        "colab_type": "code",
        "colab": {}
      },
      "source": [
        "from sklearn.neural_network import MLPClassifier\n",
        "from sklearn.neighbors import KNeighborsClassifier\n",
        "from sklearn.svm import SVC\n",
        "from sklearn.gaussian_process import GaussianProcessClassifier\n",
        "from sklearn.gaussian_process.kernels import RBF\n",
        "from sklearn.tree import DecisionTreeClassifier\n",
        "from sklearn.ensemble import RandomForestClassifier, AdaBoostClassifier\n",
        "from sklearn.naive_bayes import GaussianNB\n",
        "from sklearn.discriminant_analysis import QuadraticDiscriminantAnalysis\n",
        "from sklearn.linear_model import LogisticRegression"
      ],
      "execution_count": null,
      "outputs": []
    },
    {
      "cell_type": "code",
      "metadata": {
        "id": "u-cMPtcjCDi3",
        "colab_type": "code",
        "colab": {}
      },
      "source": [
        "clf = RandomForestClassifier()\n",
        "clf.fit(X_train, y_train)\n",
        "y_pred = clf.predict(X_test)\n",
        "# importances = clf.feature_importances_\n",
        "\n",
        "#print feature importances\n",
        "feature_importances = zip(cols, clf.feature_importances_)\n",
        "\n",
        "\n",
        "print(multilabel_confusion_matrix(y_test, y_pred))\n",
        "score = clf.score(X_test, y_test)\n",
        "print(score)"
      ],
      "execution_count": null,
      "outputs": []
    },
    {
      "cell_type": "code",
      "metadata": {
        "id": "7phPDJAVCDi5",
        "colab_type": "code",
        "colab": {}
      },
      "source": [
        "feature_importances = zip(cols, clf.feature_importances_)\n",
        "feature_importances = sorted(feature_importances, key = lambda x:x[1],reverse = True)\n",
        "for x, y in feature_importances[:10]:\n",
        "    print (dfx.columns[x],y)"
      ],
      "execution_count": null,
      "outputs": []
    },
    {
      "cell_type": "code",
      "metadata": {
        "scrolled": true,
        "id": "YhgT0wd6CDi8",
        "colab_type": "code",
        "colab": {}
      },
      "source": [
        "clf = SVC(kernel=\"linear\",C=0.025)\n",
        "#79 before\n",
        "clf.fit(X_train, y_train)\n",
        "y_pred = clf.predict(X_test)\n",
        "# print(clf.feature_importances_)\n",
        "print(multilabel_confusion_matrix(y_test, y_pred, labels=['Positive', 'Negative']))\n",
        "score = clf.score(X_test, y_test)\n",
        "print(score)"
      ],
      "execution_count": null,
      "outputs": []
    },
    {
      "cell_type": "code",
      "metadata": {
        "id": "ClH2zBnRCDi_",
        "colab_type": "code",
        "colab": {}
      },
      "source": [
        "clf = SVC(kernel='rbf', gamma=0.0003) #0.8811\n",
        "clf.fit(X_train, y_train)\n",
        "y_pred = clf.predict(X_test)\n",
        "print(multilabel_confusion_matrix(y_test, y_pred, labels=['Positive', 'Negative']))\n",
        "score = clf.score(X_test, y_test)\n",
        "print(score)"
      ],
      "execution_count": null,
      "outputs": []
    },
    {
      "cell_type": "code",
      "metadata": {
        "id": "VmHYm3qaCDjB",
        "colab_type": "code",
        "colab": {}
      },
      "source": [
        "clf = LogisticRegression(max_iter=500)\n",
        "\n",
        "clf.fit(X_train, y_train)\n",
        "score = clf.score(X_test, y_test)\n",
        "y_pred = clf.predict(X_test)\n",
        "print(multilabel_confusion_matrix(y_test, y_pred, labels=['Positive', 'Negative']))\n",
        "print(score)"
      ],
      "execution_count": null,
      "outputs": []
    },
    {
      "cell_type": "code",
      "metadata": {
        "id": "t6-qzGaACDjD",
        "colab_type": "code",
        "colab": {}
      },
      "source": [
        "clf = GaussianNB()\n",
        "#0.568 before\n",
        "clf.fit(X_train, y_train)\n",
        "y_pred = clf.predict(X_test)\n",
        "print(multilabel_confusion_matrix(y_test, y_pred, labels=['Positive', 'Negative']))\n",
        "score = clf.score(X_test, y_test)\n",
        "\n",
        "print(score)"
      ],
      "execution_count": null,
      "outputs": []
    },
    {
      "cell_type": "markdown",
      "metadata": {
        "id": "KGoRYgjQCDjH",
        "colab_type": "text"
      },
      "source": [
        "### Ensemble "
      ]
    },
    {
      "cell_type": "code",
      "metadata": {
        "id": "ifr3fmIXCDjH",
        "colab_type": "code",
        "colab": {}
      },
      "source": [
        "from sklearn.ensemble import VotingClassifier\n",
        "from sklearn.ensemble import BaggingClassifier, ExtraTreesClassifier, RandomForestClassifier, AdaBoostClassifier\n",
        "from sklearn.linear_model import LogisticRegression\n",
        "from sklearn.svm import SVC\n",
        "from sklearn.tree import DecisionTreeClassifier\n"
      ],
      "execution_count": null,
      "outputs": []
    },
    {
      "cell_type": "code",
      "metadata": {
        "id": "bg610tirCDjJ",
        "colab_type": "code",
        "colab": {}
      },
      "source": [
        "lr = LogisticRegression(max_iter = 20)\n",
        "rf = RandomForestClassifier()\n",
        "\n",
        "svm_linear = SVC(kernel='linear')\n",
        "svm = SVC(kernel = 'rbf', gamma=0.0003)\n",
        "evc = VotingClassifier( estimators= [('svm_linear',svm_linear),('lr',lr),('svm',svm),('rf',rf)], voting = 'hard')\n",
        "evc.fit(X_train,y_train)\n",
        "evc.score(X_test, y_test)"
      ],
      "execution_count": null,
      "outputs": []
    },
    {
      "cell_type": "code",
      "metadata": {
        "id": "-VYd4LG9CDjL",
        "colab_type": "code",
        "colab": {}
      },
      "source": [
        "y_pred = evc.predict(X_test)\n",
        "print(multilabel_confusion_matrix(y_test, y_pred, labels=['Positive','Negative']))\n"
      ],
      "execution_count": null,
      "outputs": []
    },
    {
      "cell_type": "markdown",
      "metadata": {
        "id": "rE4Iq3sxCDjO",
        "colab_type": "text"
      },
      "source": [
        "# Dimensionality Reduction and Plot"
      ]
    },
    {
      "cell_type": "code",
      "metadata": {
        "id": "60m42tnaCDjO",
        "colab_type": "code",
        "colab": {}
      },
      "source": [
        "from sklearn.decomposition import KernelPCA,PCA\n",
        "pca = PCA(n_components=3)\n",
        "X_reduced = pca.fit_transform(X_impu)\n",
        "X_reduced.shape"
      ],
      "execution_count": null,
      "outputs": []
    },
    {
      "cell_type": "code",
      "metadata": {
        "id": "Ln_dzYIACDjR",
        "colab_type": "code",
        "colab": {}
      },
      "source": [
        "y_num = Y.apply(['Positive','Negative'].index)"
      ],
      "execution_count": null,
      "outputs": []
    },
    {
      "cell_type": "code",
      "metadata": {
        "id": "ZBkHF5VzCDjU",
        "colab_type": "code",
        "colab": {}
      },
      "source": [
        "x_nen=pd.DataFrame(data=X_reduced[0:,0:],index=[i for i in range(X_reduced.shape[0])],columns=['f'+str(i) for i in range(X_reduced.shape[1])])"
      ],
      "execution_count": null,
      "outputs": []
    },
    {
      "cell_type": "code",
      "metadata": {
        "id": "H91O55haCDjZ",
        "colab_type": "code",
        "colab": {}
      },
      "source": [
        "x_nen['y'] = y_num"
      ],
      "execution_count": null,
      "outputs": []
    },
    {
      "cell_type": "code",
      "metadata": {
        "id": "iaLTznwuCDja",
        "colab_type": "code",
        "colab": {}
      },
      "source": [
        "idcs = x_nen[x_nen.y == 0]\n",
        "ilcs = x_nen[x_nen.y == 1]"
      ],
      "execution_count": null,
      "outputs": []
    },
    {
      "cell_type": "code",
      "metadata": {
        "id": "3Bn_q3XPCDjd",
        "colab_type": "code",
        "colab": {}
      },
      "source": [
        "import matplotlib.pyplot as plt\n",
        "from mpl_toolkits.mplot3d import Axes3D\n",
        "\n",
        "fig = plt.figure()\n",
        "ax = fig.add_subplot(111,projection='3d')\n",
        "ax.scatter(idcs.iloc[:,0],idcs.iloc[:,1],idcs.iloc[:,2],c='r',marker='^',label='Positive')\n",
        "ax.scatter(ilcs.iloc[:,0],ilcs.iloc[:,1],ilcs.iloc[:,2],c='green',marker='v',label='Negative')\n",
        "\n",
        "ax.view_init(40, 20)\n",
        "ax.legend()\n",
        "plt.savefig('PR PCA.png')"
      ],
      "execution_count": null,
      "outputs": []
    },
    {
      "cell_type": "markdown",
      "metadata": {
        "id": "PV34AabhCDjf",
        "colab_type": "text"
      },
      "source": [
        "# Using resampled data"
      ]
    },
    {
      "cell_type": "code",
      "metadata": {
        "id": "fNRisyKyCDjg",
        "colab_type": "code",
        "colab": {}
      },
      "source": [
        "from sklearn.decomposition import KernelPCA,PCA\n",
        "pca = PCA(n_components=3)\n",
        "X_reduced = pca.fit_transform(X_s)\n",
        "X_reduced.shape"
      ],
      "execution_count": null,
      "outputs": []
    },
    {
      "cell_type": "code",
      "metadata": {
        "id": "k1dIHol_CDji",
        "colab_type": "code",
        "colab": {}
      },
      "source": [
        "y_num = y_s.apply(['Positive','Negative'].index)"
      ],
      "execution_count": null,
      "outputs": []
    },
    {
      "cell_type": "code",
      "metadata": {
        "id": "K2gTnI14CDjj",
        "colab_type": "code",
        "colab": {}
      },
      "source": [
        "x_nen=pd.DataFrame(data=X_reduced[0:,0:],index=[i for i in range(X_reduced.shape[0])],columns=['f'+str(i) for i in range(X_reduced.shape[1])])"
      ],
      "execution_count": null,
      "outputs": []
    },
    {
      "cell_type": "code",
      "metadata": {
        "id": "7TRFzkYYCDjl",
        "colab_type": "code",
        "colab": {}
      },
      "source": [
        "x_nen['y'] = y_num"
      ],
      "execution_count": null,
      "outputs": []
    },
    {
      "cell_type": "code",
      "metadata": {
        "id": "jLuZZph9CDjo",
        "colab_type": "code",
        "colab": {}
      },
      "source": [
        "import matplotlib.pyplot as plt\n",
        "from mpl_toolkits.mplot3d import Axes3D\n",
        "\n",
        "fig = plt.figure()\n",
        "ax = fig.add_subplot(111,projection='3d')\n",
        "ax.scatter(idcs.iloc[:,0],idcs.iloc[:,1],idcs.iloc[:,2],c='r',marker='^',label='Positive')\n",
        "ax.scatter(ilcs.iloc[:,0],ilcs.iloc[:,1],ilcs.iloc[:,2],c='green',marker='v',label='Negative')\n",
        "\n",
        "\n",
        "ax.view_init(40, 20)\n",
        "\n",
        "ax.legend(scatterpoints=1,\n",
        "           loc='lower left',\n",
        "           ncol=3,\n",
        "           fontsize=8)\n",
        "plt.savefig('PR SMOTE PCA.png')"
      ],
      "execution_count": null,
      "outputs": []
    },
    {
      "cell_type": "code",
      "metadata": {
        "id": "sRdzcmBeCDjq",
        "colab_type": "code",
        "colab": {}
      },
      "source": [
        ""
      ],
      "execution_count": null,
      "outputs": []
    }
  ]
}