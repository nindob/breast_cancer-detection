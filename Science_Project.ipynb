{
  "nbformat": 4,
  "nbformat_minor": 0,
  "metadata": {
    "colab": {
      "name": "Science Project",
      "provenance": [],
      "collapsed_sections": [],
      "authorship_tag": "ABX9TyMo0KqI/IEHut0kfInmqvdJ",
      "include_colab_link": true
    },
    "kernelspec": {
      "name": "python3",
      "display_name": "Python 3"
    }
  },
  "cells": [
    {
      "cell_type": "markdown",
      "metadata": {
        "id": "view-in-github",
        "colab_type": "text"
      },
      "source": [
        "<a href=\"https://colab.research.google.com/github/nindob/breast_cancer-detection/blob/master/Science_Project.ipynb\" target=\"_parent\"><img src=\"https://colab.research.google.com/assets/colab-badge.svg\" alt=\"Open In Colab\"/></a>"
      ]
    },
    {
      "cell_type": "code",
      "metadata": {
        "id": "5FH4_5El_Sbz",
        "colab_type": "code",
        "colab": {}
      },
      "source": [
        "#Classification of cancer dignosis\n",
        "#importing the libraries\n",
        "import numpy as np\n",
        "import matplotlib.pyplot as plt\n",
        "import pandas as pd\n",
        "import seaborn as sns"
      ],
      "execution_count": 0,
      "outputs": []
    },
    {
      "cell_type": "code",
      "metadata": {
        "id": "e2mqRVOjBZg5",
        "colab_type": "code",
        "colab": {}
      },
      "source": [
        "#importing the dataset \n",
        "#load data\n",
        "from google.colab import files\n",
        "uploaded = files.upload()\n",
        "df = pd.read_csv('data.csv')\n",
        "df.head(7)"
      ],
      "execution_count": 0,
      "outputs": []
    },
    {
      "cell_type": "code",
      "metadata": {
        "id": "qYBUDs0pdpY_",
        "colab_type": "code",
        "colab": {}
      },
      "source": [
        "#Count the number of coloumns and rows in the data set\n",
        "df.shape"
      ],
      "execution_count": 0,
      "outputs": []
    },
    {
      "cell_type": "code",
      "metadata": {
        "id": "2Nln_XVldlxx",
        "colab_type": "code",
        "colab": {}
      },
      "source": [
        "#Count the number of empty values, (NaN, na, NAN) in each column\n",
        "df.isna().sum()"
      ],
      "execution_count": 0,
      "outputs": []
    },
    {
      "cell_type": "code",
      "metadata": {
        "id": "5GAjLN9VFBc4",
        "colab_type": "code",
        "colab": {}
      },
      "source": [
        "#Drop last coloumn with missing values\n",
        "df = df.dropna(axis=1)"
      ],
      "execution_count": 0,
      "outputs": []
    },
    {
      "cell_type": "code",
      "metadata": {
        "id": "sXZ4HF6idvTA",
        "colab_type": "code",
        "colab": {}
      },
      "source": [
        "#Get the new count of the number of rows and columns\n",
        "df.shape"
      ],
      "execution_count": 0,
      "outputs": []
    },
    {
      "cell_type": "code",
      "metadata": {
        "id": "rX-xTiwVdGU6",
        "colab_type": "code",
        "colab": {}
      },
      "source": [
        "#Get a count of the number of Malignant (M) or Bengin (B) cells\n",
        "df['diagnosis'].value_counts()"
      ],
      "execution_count": 0,
      "outputs": []
    },
    {
      "cell_type": "code",
      "metadata": {
        "id": "wEzC_g1jdVl1",
        "colab_type": "code",
        "colab": {}
      },
      "source": [
        "#Visualize the count\n",
        "sns.countplot(df['diagnosis'], label='count')"
      ],
      "execution_count": 0,
      "outputs": []
    },
    {
      "cell_type": "code",
      "metadata": {
        "id": "vZtQbQRjeI9f",
        "colab_type": "code",
        "colab": {}
      },
      "source": [
        "#Create a pair plot\n",
        "sns.pairplot(df.iloc[:,1:7], hue = 'diagnosis')"
      ],
      "execution_count": 0,
      "outputs": []
    },
    {
      "cell_type": "code",
      "metadata": {
        "id": "XseF2x4feQ1Z",
        "colab_type": "code",
        "colab": {}
      },
      "source": [
        "#Get the correlation of the columns\n",
        "df.iloc[:,1:12].corr()"
      ],
      "execution_count": 0,
      "outputs": []
    },
    {
      "cell_type": "code",
      "metadata": {
        "id": "aJ00HuM_eTvw",
        "colab_type": "code",
        "colab": {}
      },
      "source": [
        "#Visualize the correlation\n",
        "plt.figure(figsize=(10,10))\n",
        "sns.heatmap(df.iloc[:,1:12].corr(), annot=True, fmt='.0%')"
      ],
      "execution_count": 0,
      "outputs": []
    },
    {
      "cell_type": "code",
      "metadata": {
        "id": "yyvfGxubDKoo",
        "colab_type": "code",
        "colab": {}
      },
      "source": [
        "#Encode the catagorical data values\n",
        "from sklearn.preprocessing import LabelEncoder\n",
        "labelencoder_Y = LabelEncoder()\n",
        "df.iloc[:,1] = labelencoder_Y.fit_transform(df.iloc[:,1].values)"
      ],
      "execution_count": 0,
      "outputs": []
    },
    {
      "cell_type": "code",
      "metadata": {
        "id": "_Jv7shTsDb-P",
        "colab_type": "code",
        "colab": {}
      },
      "source": [
        "#Split the data into Independent (X) and Dependent (Y) data sets\n",
        "X = df.iloc[:,2:31].values\n",
        "Y = df.iloc[:,1].values"
      ],
      "execution_count": 0,
      "outputs": []
    },
    {
      "cell_type": "code",
      "metadata": {
        "id": "CGtkSED-DnGm",
        "colab_type": "code",
        "colab": {}
      },
      "source": [
        "# Splitting the dataset into the Training set and Test set\n",
        "from sklearn.model_selection import train_test_split\n",
        "X_train, X_test, Y_train, Y_test = train_test_split(X, Y, test_size = 0.20, random_state = 0)"
      ],
      "execution_count": 0,
      "outputs": []
    },
    {
      "cell_type": "code",
      "metadata": {
        "id": "O31B3Sb8DtrV",
        "colab_type": "code",
        "colab": {}
      },
      "source": [
        "#Scale the data (Feature Scaling)\n",
        "from sklearn.preprocessing import StandardScaler\n",
        "sc = StandardScaler()\n",
        "X_train = sc.fit_transform(X_train)\n",
        "X_test = sc.fit_transform(X_test)"
      ],
      "execution_count": 0,
      "outputs": []
    },
    {
      "cell_type": "code",
      "metadata": {
        "id": "AgBsSiOaGCLg",
        "colab_type": "code",
        "colab": {}
      },
      "source": [
        "#Create a function for the models\n",
        "def models(X_train, Y_train):\n",
        "\n",
        "  #Fitting the Logistic Regression Algorithm to the Training Set\n",
        "  from sklearn.linear_model import LogisticRegression\n",
        "  log = LogisticRegression(random_state = 0)\n",
        "  log.fit(X_train, Y_train)\n",
        "  #95.8 Acuracy\n",
        "\n",
        "  #Fitting K-NN Algorithm\n",
        "  from sklearn.neighbors import KNeighborsClassifier\n",
        "  knn = KNeighborsClassifier(n_neighbors = 5, metric = 'minkowski', p = 2)\n",
        "  knn.fit(X_train, Y_train)\n",
        " \n",
        "\n",
        "  #Fitting SVM\n",
        "  from sklearn.svm import SVC\n",
        "  svm = SVC(kernel = 'linear', random_state = 0)\n",
        "  svm.fit(X_train, Y_train) \n",
        "  \n",
        "\n",
        "  #Fitting K-SVM\n",
        "  from sklearn.svm import SVC\n",
        "  ksvm = SVC(kernel = 'rbf', random_state = 0)\n",
        "  ksvm.fit(X_train, Y_train)\n",
        " \n",
        "\n",
        "  #Fitting Naive_Bayes\n",
        "  from sklearn.naive_bayes import GaussianNB\n",
        "  naive = GaussianNB()\n",
        "  naive.fit(X_train, Y_train)\n",
        "\n",
        "\n",
        "  #Fitting Decision Tree Algorithm\n",
        "  from sklearn.tree import DecisionTreeClassifier\n",
        "  tree = DecisionTreeClassifier(criterion = 'entropy', random_state = 0)\n",
        "  tree.fit(X_train, Y_train)\n",
        "  \n",
        "\n",
        "  #Fitting Random Forest Classification Algorithm\n",
        "  from sklearn.ensemble import RandomForestClassifier\n",
        "  forest = RandomForestClassifier(n_estimators = 10, criterion = 'entropy', random_state = 0)\n",
        "  forest.fit(X_train, Y_train)\n",
        "  \n",
        "\n",
        "  #Print the models accuracy on the training data\n",
        "  print('[0]Logistic Regression Training Accuracy:', log.score(X_train, Y_train))\n",
        "  print('[1]K-Nearest Neighbours Classifier Training Accuracy:', knn.score(X_train, Y_train))\n",
        "  print('[2]Support Vector Machine Classifier Training Accuracy:', svm.score(X_train, Y_train))\n",
        "  print('[3]K-Support Vector Machine Classifier Training Accuracy:', ksvm.score(X_train, Y_train))\n",
        "  print('[4]Naive Bayes Training Accuracy:', naive.score(X_train, Y_train))\n",
        "  print('[5]Decision Tree Training Accuracy:', tree.score(X_train, Y_train))\n",
        "  print('[6]Random Forest Classifier Training Accuracy:', forest.score(X_train, Y_train))\n",
        "\n",
        "  return log, knn, svm, ksvm, naive, tree, forest"
      ],
      "execution_count": 0,
      "outputs": []
    },
    {
      "cell_type": "code",
      "metadata": {
        "id": "hfql7xxmIqFN",
        "colab_type": "code",
        "colab": {}
      },
      "source": [
        "#Getting all of the models\n",
        "model = models(X_train, Y_train)"
      ],
      "execution_count": 0,
      "outputs": []
    },
    {
      "cell_type": "code",
      "metadata": {
        "id": "csLu1Yn0IwYz",
        "colab_type": "code",
        "colab": {}
      },
      "source": [
        "#Test model accuracy on test data on confusion matrix\n",
        "from sklearn.metrics import confusion_matrix\n",
        "\n",
        "for i in range(len(model)):\n",
        "  print('Model', i)\n",
        "  cm = confusion_matrix(Y_test, model[i].predict(X_test))\n",
        "\n",
        "  TP = cm[0][0]\n",
        "  TN = cm[1][1]\n",
        "  FN = cm[1][0]\n",
        "  FP = cm[0][1]\n",
        "\n",
        "  print(cm)\n",
        "  print('Testing Accuracy =', (TP + TN)/ (TP + TN + FN + FP))\n",
        "  print()"
      ],
      "execution_count": 0,
      "outputs": []
    },
    {
      "cell_type": "code",
      "metadata": {
        "id": "4bFpgX-OJw-r",
        "colab_type": "code",
        "colab": {}
      },
      "source": [
        "#Show another way to get metrics of the models\n",
        "from sklearn.metrics import classification_report\n",
        "from sklearn.metrics import accuracy_score\n",
        "\n",
        "for i in range(len(model)):\n",
        "  print('Model', i)\n",
        "  print(classification_report(Y_test, model[i].predict(X_test)))\n",
        "  print(accuracy_score(Y_test, model[i].predict(X_test)))\n",
        "  print()"
      ],
      "execution_count": 0,
      "outputs": []
    },
    {
      "cell_type": "code",
      "metadata": {
        "id": "8ZqnzfqkJ7g7",
        "colab_type": "code",
        "colab": {}
      },
      "source": [
        "#Print the prediction of Random Forest Classifier Model\n",
        "pred = model[3].predict(X_test)\n",
        "print(pred)\n",
        "print()\n",
        "print(Y_test)"
      ],
      "execution_count": 0,
      "outputs": []
    }
  ]
}