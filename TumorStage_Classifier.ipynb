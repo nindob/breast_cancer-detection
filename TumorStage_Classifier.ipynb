{
  "nbformat": 4,
  "nbformat_minor": 0,
  "metadata": {
    "kernelspec": {
      "display_name": "Python 3",
      "language": "python",
      "name": "python3"
    },
    "language_info": {
      "codemirror_mode": {
        "name": "ipython",
        "version": 3
      },
      "file_extension": ".py",
      "mimetype": "text/x-python",
      "name": "python",
      "nbconvert_exporter": "python",
      "pygments_lexer": "ipython3",
      "version": "3.5.0"
    },
    "colab": {
      "name": "TumorStage Classifier.ipynb",
      "provenance": []
    }
  },
  "cells": [
    {
      "cell_type": "code",
      "metadata": {
        "id": "uS7pzm9th5kf",
        "colab_type": "code",
        "colab": {}
      },
      "source": [
        "import pandas as pd\n",
        "from collections import defaultdict\n",
        "import numpy as np \n",
        "import pandas as pd \n",
        "import matplotlib.pyplot as plt \n",
        "import seaborn as sns\n",
        "from collections import Counter\n",
        "from sklearn.metrics import multilabel_confusion_matrix"
      ],
      "execution_count": null,
      "outputs": []
    },
    {
      "cell_type": "code",
      "metadata": {
        "id": "7pZVB-lLh5kj",
        "colab_type": "code",
        "colab": {}
      },
      "source": [
        "dfx = pd.read_csv(\"dfx.csv\")"
      ],
      "execution_count": null,
      "outputs": []
    },
    {
      "cell_type": "markdown",
      "metadata": {
        "id": "CS0Yyw0Fh5kn",
        "colab_type": "text"
      },
      "source": [
        "Deleting one row MBC"
      ]
    },
    {
      "cell_type": "code",
      "metadata": {
        "id": "mtSEYo4Zh5ko",
        "colab_type": "code",
        "colab": {}
      },
      "source": [
        "dfx_noMBC = dfx[dfx['Oncotree Code']!='MBC']"
      ],
      "execution_count": null,
      "outputs": []
    },
    {
      "cell_type": "code",
      "metadata": {
        "id": "BTGrB7F8h5kr",
        "colab_type": "code",
        "colab": {}
      },
      "source": [
        "dfx.head()"
      ],
      "execution_count": null,
      "outputs": []
    },
    {
      "cell_type": "code",
      "metadata": {
        "id": "pX6nIfnMh5ku",
        "colab_type": "code",
        "colab": {}
      },
      "source": [
        "dfx_only_stage = dfx_noMBC.drop(['Unnamed: 0','Cancer Type Detailed','ER Status','HER2 Status','Neoplasm Histologic Grade','Oncotree Code','PR Status','Tumor Size'],axis=1)"
      ],
      "execution_count": null,
      "outputs": []
    },
    {
      "cell_type": "code",
      "metadata": {
        "id": "Gp6y1yhhh5kx",
        "colab_type": "code",
        "colab": {}
      },
      "source": [
        "dfx_only_stage.head()\n",
        "#Where OncoTreeCode is NA\n",
        "# dfx_only_onc = dfx_only_onc[np.isfinite(dfx_only_onc['Oncotree Code'])]\n",
        "# dfx_only_onc['Oncotree Code'].isnull().values.any()\n",
        "dfx_only_stage = dfx_only_stage[pd.notnull(dfx_only_stage['Tumor Stage'])]\n",
        "dfx_only_stage['Tumor Stage'].isnull().values.any()"
      ],
      "execution_count": null,
      "outputs": []
    },
    {
      "cell_type": "code",
      "metadata": {
        "scrolled": false,
        "id": "5LW0b8Elh5kz",
        "colab_type": "code",
        "colab": {}
      },
      "source": [
        "dfx_only_stage.head()"
      ],
      "execution_count": null,
      "outputs": []
    },
    {
      "cell_type": "code",
      "metadata": {
        "scrolled": true,
        "id": "PJf3-aUMh5k5",
        "colab_type": "code",
        "colab": {}
      },
      "source": [
        "X = dfx_only_stage.loc[:, dfx_only_stage.columns != 'Tumor Stage']\n",
        "Y = dfx_only_stage['Tumor Stage']\n",
        "X"
      ],
      "execution_count": null,
      "outputs": []
    },
    {
      "cell_type": "code",
      "metadata": {
        "scrolled": true,
        "id": "_pI7rTbVh5k9",
        "colab_type": "code",
        "colab": {}
      },
      "source": [
        "Y"
      ],
      "execution_count": null,
      "outputs": []
    },
    {
      "cell_type": "markdown",
      "metadata": {
        "id": "moG4iW3vh5lB",
        "colab_type": "text"
      },
      "source": [
        "Finding number of unique values"
      ]
    },
    {
      "cell_type": "code",
      "metadata": {
        "id": "FD8PnpEWh5lC",
        "colab_type": "code",
        "colab": {}
      },
      "source": [
        "np.unique(Y, return_counts=True)"
      ],
      "execution_count": null,
      "outputs": []
    },
    {
      "cell_type": "markdown",
      "metadata": {
        "id": "1Xiue1jnh5lE",
        "colab_type": "text"
      },
      "source": [
        "Imputing missing values"
      ]
    },
    {
      "cell_type": "code",
      "metadata": {
        "id": "e1DoQU-Sh5lF",
        "colab_type": "code",
        "colab": {}
      },
      "source": [
        "from sklearn.impute import SimpleImputer\n",
        "imp = SimpleImputer(missing_values=np.nan, strategy='mean')\n",
        "X_impu = imp.fit_transform(X)\n",
        "X_impu = pd.DataFrame(X_impu, columns=X.columns)\n"
      ],
      "execution_count": null,
      "outputs": []
    },
    {
      "cell_type": "code",
      "metadata": {
        "id": "mTrFVioKh5lJ",
        "colab_type": "code",
        "colab": {}
      },
      "source": [
        "X_impu"
      ],
      "execution_count": null,
      "outputs": []
    },
    {
      "cell_type": "markdown",
      "metadata": {
        "id": "slV3Mo0Ph5lM",
        "colab_type": "text"
      },
      "source": [
        "Feature Selection"
      ]
    },
    {
      "cell_type": "markdown",
      "metadata": {
        "id": "e6g66ylSh5lN",
        "colab_type": "text"
      },
      "source": [
        "# Using 2000 features"
      ]
    },
    {
      "cell_type": "code",
      "metadata": {
        "id": "rR99U1yIh5lO",
        "colab_type": "code",
        "colab": {}
      },
      "source": [
        "from sklearn.feature_selection import chi2\n",
        "from sklearn.feature_selection import SelectKBest\n",
        "selector = SelectKBest(chi2, k=2000)\n",
        "selector.fit(X_impu, Y)\n",
        "cols = selector.get_support(indices=True)\n",
        "X_new = X_impu.iloc[:,cols]\n",
        "# X_new"
      ],
      "execution_count": null,
      "outputs": []
    },
    {
      "cell_type": "code",
      "metadata": {
        "id": "DWblJrPOh5lQ",
        "colab_type": "code",
        "colab": {}
      },
      "source": [
        "print(\"the shape of new data is: \",X_new.shape)"
      ],
      "execution_count": null,
      "outputs": []
    },
    {
      "cell_type": "markdown",
      "metadata": {
        "id": "5zKoSfdvh5lT",
        "colab_type": "text"
      },
      "source": [
        "Resampling"
      ]
    },
    {
      "cell_type": "code",
      "metadata": {
        "id": "bfPHp3dAh5lT",
        "colab_type": "code",
        "colab": {}
      },
      "source": [
        "from imblearn.over_sampling import SMOTE \n",
        "sm = SMOTE(random_state=42,k_neighbors=3, sampling_strategy='auto')\n",
        "X_s, y_s = sm.fit_resample(X_new, Y)\n",
        "print('Resampled dataset shape after running SMOTE algorithm for Data Oversampling %s' % Counter(y_s))"
      ],
      "execution_count": null,
      "outputs": []
    },
    {
      "cell_type": "markdown",
      "metadata": {
        "id": "bm--_Ecsh5lg",
        "colab_type": "text"
      },
      "source": [
        "Training Testing Split"
      ]
    },
    {
      "cell_type": "code",
      "metadata": {
        "id": "OtVTMG9Sh5lg",
        "colab_type": "code",
        "colab": {}
      },
      "source": [
        "from sklearn.model_selection import train_test_split\n",
        "from sklearn.metrics import mean_squared_error\n",
        "from sklearn.metrics import mean_absolute_error\n",
        "\n",
        "X_train, X_test, y_train, y_test = train_test_split(X_s, y_s, test_size=0.2)\n",
        "print (\"the shape of training data is \",X_train.shape, y_train.shape)\n",
        "print (\"the shape of testing data is \",X_test.shape, y_test.shape)"
      ],
      "execution_count": null,
      "outputs": []
    },
    {
      "cell_type": "code",
      "metadata": {
        "id": "YuWPC8DZh5lj",
        "colab_type": "code",
        "colab": {}
      },
      "source": [
        "from sklearn.neural_network import MLPClassifier\n",
        "from sklearn.neighbors import KNeighborsClassifier\n",
        "from sklearn.svm import SVC\n",
        "from sklearn.gaussian_process import GaussianProcessClassifier\n",
        "from sklearn.gaussian_process.kernels import RBF\n",
        "from sklearn.tree import DecisionTreeClassifier\n",
        "from sklearn.ensemble import RandomForestClassifier, AdaBoostClassifier\n",
        "from sklearn.naive_bayes import GaussianNB\n",
        "from sklearn.discriminant_analysis import QuadraticDiscriminantAnalysis\n",
        "from sklearn.linear_model import LogisticRegression\n",
        "from sklearn.preprocessing import label_binarize\n",
        "from sklearn.multiclass import OneVsRestClassifier\n",
        "from sklearn.metrics import roc_curve, auc"
      ],
      "execution_count": null,
      "outputs": []
    },
    {
      "cell_type": "code",
      "metadata": {
        "id": "VfzbB5r3h5ls",
        "colab_type": "code",
        "colab": {}
      },
      "source": [
        "clf = SVC(kernel=\"linear\", C=1)\n",
        "#79 before\n",
        "clf.fit(X_train, y_train)\n",
        "y_pred = clf.predict(X_test)\n",
        "print(multilabel_confusion_matrix(y_test, y_pred))\n",
        "score = clf.score(X_test, y_test)\n",
        "\n",
        "print(score)\n"
      ],
      "execution_count": null,
      "outputs": []
    },
    {
      "cell_type": "code",
      "metadata": {
        "id": "-hSusYKvh5lv",
        "colab_type": "code",
        "colab": {}
      },
      "source": [
        "clf = SVC(kernel='rbf', gamma=0.001)\n",
        " #86\n",
        "clf.fit(X_train, y_train)\n",
        "y_pred = clf.predict(X_test)\n",
        "print(multilabel_confusion_matrix(y_test, y_pred))\n",
        "score = clf.score(X_test, y_test)\n",
        "print(score)"
      ],
      "execution_count": null,
      "outputs": []
    },
    {
      "cell_type": "code",
      "metadata": {
        "id": "BvpSNZhBh5l0",
        "colab_type": "code",
        "colab": {}
      },
      "source": [
        "clf = LogisticRegression()\n",
        "\n",
        "clf.fit(X_train, y_train)\n",
        "y_pred = clf.predict(X_test)\n",
        "print(multilabel_confusion_matrix(y_test, y_pred))\n",
        "score = clf.score(X_test, y_test)\n",
        "print(score)"
      ],
      "execution_count": null,
      "outputs": []
    },
    {
      "cell_type": "code",
      "metadata": {
        "id": "0uIEMI-2h5mF",
        "colab_type": "code",
        "colab": {}
      },
      "source": [
        "clf = GaussianNB()\n",
        "#0.568 before\n",
        "clf.fit(X_train, y_train)\n",
        "y_pred = clf.predict(X_test)\n",
        "print(multilabel_confusion_matrix(y_test, y_pred))\n",
        "score = clf.score(X_test, y_test)\n",
        "print(score)"
      ],
      "execution_count": null,
      "outputs": []
    },
    {
      "cell_type": "markdown",
      "metadata": {
        "id": "Lek-lr_sh5mh",
        "colab_type": "text"
      },
      "source": [
        "### Ensemble "
      ]
    },
    {
      "cell_type": "code",
      "metadata": {
        "id": "WPUynq-Kh5mh",
        "colab_type": "code",
        "colab": {}
      },
      "source": [
        "from sklearn.ensemble import VotingClassifier\n",
        "from sklearn.ensemble import BaggingClassifier, ExtraTreesClassifier, RandomForestClassifier\n",
        "from sklearn.linear_model import LogisticRegression\n",
        "from sklearn.svm import SVC\n",
        "from sklearn.tree import DecisionTreeClassifier\n",
        "from sklearn.ensemble import AdaBoostClassifier"
      ],
      "execution_count": null,
      "outputs": []
    },
    {
      "cell_type": "code",
      "metadata": {
        "id": "Gd_gG8sxh5ms",
        "colab_type": "code",
        "colab": {}
      },
      "source": [
        "lr = LogisticRegression(max_iter = 20)\n",
        "svm_linear = SVC(kernel='linear',C=1)\n",
        "svm = SVC(kernel = 'rbf', gamma=0.001)\n",
        "gnb =  GaussianNB()\n",
        "evc = VotingClassifier( estimators= [('svm_linear',svm_linear),('lr',lr),('svm',svm)], voting = 'hard')\n",
        "evc.fit(X_train,y_train)\n",
        "evc.score(X_test, y_test)"
      ],
      "execution_count": null,
      "outputs": []
    },
    {
      "cell_type": "code",
      "metadata": {
        "id": "1DTLBOCGh5mv",
        "colab_type": "code",
        "colab": {}
      },
      "source": [
        "y_pred = evc.predict(X_test)\n",
        "print(multilabel_confusion_matrix(y_test, y_pred))\n"
      ],
      "execution_count": null,
      "outputs": []
    },
    {
      "cell_type": "markdown",
      "metadata": {
        "id": "ZT6_Mwx_h5m0",
        "colab_type": "text"
      },
      "source": [
        "# Using 5000 features"
      ]
    },
    {
      "cell_type": "code",
      "metadata": {
        "id": "GH6EcLQhh5m1",
        "colab_type": "code",
        "colab": {}
      },
      "source": [
        "from sklearn.feature_selection import chi2\n",
        "from sklearn.feature_selection import SelectKBest\n",
        "selector = SelectKBest(chi2, k=5000)\n",
        "selector.fit(X_impu, Y)\n",
        "cols = selector.get_support(indices=True)\n",
        "X_new = X_impu.iloc[:,cols]"
      ],
      "execution_count": null,
      "outputs": []
    },
    {
      "cell_type": "code",
      "metadata": {
        "id": "DUFxpuQ0h5m3",
        "colab_type": "code",
        "colab": {}
      },
      "source": [
        "print(\"the shape of new data is: \",X_new.shape)"
      ],
      "execution_count": null,
      "outputs": []
    },
    {
      "cell_type": "markdown",
      "metadata": {
        "id": "pliFL5Cfh5m6",
        "colab_type": "text"
      },
      "source": [
        "Resampling"
      ]
    },
    {
      "cell_type": "code",
      "metadata": {
        "id": "Ox8JDXdbh5m7",
        "colab_type": "code",
        "colab": {}
      },
      "source": [
        "from imblearn.over_sampling import SMOTE \n",
        "sm = SMOTE(random_state=42,k_neighbors=3, sampling_strategy='auto')\n",
        "X_s, y_s = sm.fit_resample(X_new, Y)\n",
        "print('Resampled dataset shape after running SMOTE algorithm for Data Oversampling %s' % Counter(y_s))\n",
        "dfffff = pd.DataFrame(X_s)\n",
        "dfffff = pd.concat([dfffff,y_s],axis=1)\n",
        "sns.countplot(dfffff['Tumor Stage'])"
      ],
      "execution_count": null,
      "outputs": []
    },
    {
      "cell_type": "code",
      "metadata": {
        "id": "HooPMoDuh5m-",
        "colab_type": "code",
        "colab": {}
      },
      "source": [
        "sns.countplot(dfx['Tumor Stage'])"
      ],
      "execution_count": null,
      "outputs": []
    },
    {
      "cell_type": "markdown",
      "metadata": {
        "id": "-KQEaltbh5nA",
        "colab_type": "text"
      },
      "source": [
        "Training Testing Split"
      ]
    },
    {
      "cell_type": "code",
      "metadata": {
        "id": "jCX1ehvth5nA",
        "colab_type": "code",
        "colab": {}
      },
      "source": [
        "from sklearn.model_selection import train_test_split\n",
        "from sklearn.metrics import mean_squared_error\n",
        "from sklearn.metrics import mean_absolute_error\n",
        "\n",
        "X_train, X_test, y_train, y_test = train_test_split(X_s, y_s, test_size=0.2)\n",
        "print (\"the shape of training data is \",X_train.shape, y_train.shape)\n",
        "print (\"the shape of testing data is \",X_test.shape, y_test.shape)"
      ],
      "execution_count": null,
      "outputs": []
    },
    {
      "cell_type": "code",
      "metadata": {
        "id": "pNWZtviCh5nD",
        "colab_type": "code",
        "colab": {}
      },
      "source": [
        "from sklearn.neural_network import MLPClassifier\n",
        "from sklearn.neighbors import KNeighborsClassifier\n",
        "from sklearn.svm import SVC\n",
        "from sklearn.gaussian_process import GaussianProcessClassifier\n",
        "from sklearn.gaussian_process.kernels import RBF\n",
        "from sklearn.tree import DecisionTreeClassifier\n",
        "from sklearn.ensemble import RandomForestClassifier, AdaBoostClassifier\n",
        "from sklearn.naive_bayes import GaussianNB\n",
        "from sklearn.discriminant_analysis import QuadraticDiscriminantAnalysis\n",
        "from sklearn.linear_model import LogisticRegression"
      ],
      "execution_count": null,
      "outputs": []
    },
    {
      "cell_type": "code",
      "metadata": {
        "id": "XHlE0Sfdh5nG",
        "colab_type": "code",
        "colab": {}
      },
      "source": [
        "clf = RandomForestClassifier()\n",
        "clf.fit(X_train, y_train)\n",
        "y_pred = clf.predict(X_test)\n",
        "print(multilabel_confusion_matrix(y_test, y_pred))\n",
        "score = clf.score(X_test, y_test)\n",
        "print(score)"
      ],
      "execution_count": null,
      "outputs": []
    },
    {
      "cell_type": "code",
      "metadata": {
        "id": "d5p_fm0Vh5nI",
        "colab_type": "code",
        "colab": {}
      },
      "source": [
        "feature_importances = zip(cols, clf.feature_importances_)\n",
        "feature_importances = sorted(feature_importances, key = lambda x:x[1],reverse = True)\n",
        "for x, y in feature_importances[:10]:\n",
        "    print (dfx.columns[x],y)"
      ],
      "execution_count": null,
      "outputs": []
    },
    {
      "cell_type": "code",
      "metadata": {
        "id": "i7d-WVK7h5nK",
        "colab_type": "code",
        "colab": {}
      },
      "source": [
        "clf = SVC(kernel=\"linear\", C=1)\n",
        "#79 before\n",
        "clf.fit(X_train, y_train)\n",
        "y_pred = clf.predict(X_test)\n",
        "print(multilabel_confusion_matrix(y_test, y_pred))\n",
        "score = clf.score(X_test, y_test)\n",
        "print(score)"
      ],
      "execution_count": null,
      "outputs": []
    },
    {
      "cell_type": "code",
      "metadata": {
        "id": "Mna0OHcdh5nN",
        "colab_type": "code",
        "colab": {}
      },
      "source": [
        "clf = SVC(kernel='rbf', gamma=0.001)\n",
        " #81.21 before, 0.715 0.05 gamma, 99.006 0.001 gamma\n",
        "clf.fit(X_train, y_train)\n",
        "y_pred = clf.predict(X_test)\n",
        "print(multilabel_confusion_matrix(y_test, y_pred))\n",
        "score = clf.score(X_test, y_test)\n",
        "print(score)"
      ],
      "execution_count": null,
      "outputs": []
    },
    {
      "cell_type": "code",
      "metadata": {
        "id": "QZtV287sh5nP",
        "colab_type": "code",
        "colab": {}
      },
      "source": [
        "clf = LogisticRegression()\n",
        "\n",
        "clf.fit(X_train, y_train)\n",
        "score = clf.score(X_test, y_test)\n",
        "y_pred = clf.predict(X_test)\n",
        "print(multilabel_confusion_matrix(y_test, y_pred))\n",
        "print(score)"
      ],
      "execution_count": null,
      "outputs": []
    },
    {
      "cell_type": "code",
      "metadata": {
        "id": "zcRVVKZeh5nS",
        "colab_type": "code",
        "colab": {}
      },
      "source": [
        "clf = GaussianNB()\n",
        "#0.568 before\n",
        "clf.fit(X_train, y_train)\n",
        "y_pred = clf.predict(X_test)\n",
        "print(multilabel_confusion_matrix(y_test, y_pred))\n",
        "score = clf.score(X_test, y_test)\n",
        "\n",
        "print(score)"
      ],
      "execution_count": null,
      "outputs": []
    },
    {
      "cell_type": "markdown",
      "metadata": {
        "id": "8viXzS4wh5nU",
        "colab_type": "text"
      },
      "source": [
        "### Ensemble "
      ]
    },
    {
      "cell_type": "code",
      "metadata": {
        "id": "5CIZMuJYh5nU",
        "colab_type": "code",
        "colab": {}
      },
      "source": [
        "from sklearn.ensemble import VotingClassifier\n",
        "from sklearn.ensemble import BaggingClassifier, ExtraTreesClassifier, RandomForestClassifier, AdaBoostClassifier\n",
        "from sklearn.linear_model import LogisticRegression\n",
        "from sklearn.svm import SVC\n",
        "from sklearn.tree import DecisionTreeClassifier\n"
      ],
      "execution_count": null,
      "outputs": []
    },
    {
      "cell_type": "code",
      "metadata": {
        "id": "-76PulbLh5nW",
        "colab_type": "code",
        "colab": {}
      },
      "source": [
        "lr = LogisticRegression(max_iter = 20)\n",
        "svm_linear = SVC(kernel='linear',C=1)\n",
        "rf = RandomForestClassifier()\n",
        "svm = SVC(kernel = 'rbf', gamma=0.001)\n",
        "evc = VotingClassifier( estimators= [('svm_linear',svm_linear),('lr',lr),('svm',svm),('rf',rf)], voting = 'hard')\n",
        "evc.fit(X_train,y_train)\n",
        "evc.score(X_test, y_test)"
      ],
      "execution_count": null,
      "outputs": []
    },
    {
      "cell_type": "code",
      "metadata": {
        "id": "LKtk8maEh5nZ",
        "colab_type": "code",
        "colab": {}
      },
      "source": [
        "y_pred = evc.predict(X_test)\n",
        "print(multilabel_confusion_matrix(y_test, y_pred))\n"
      ],
      "execution_count": null,
      "outputs": []
    },
    {
      "cell_type": "markdown",
      "metadata": {
        "id": "IWJRczMVh5nk",
        "colab_type": "text"
      },
      "source": [
        "# Dimensionality Reduction and Plot"
      ]
    },
    {
      "cell_type": "code",
      "metadata": {
        "id": "HVRTJ0MJh5nl",
        "colab_type": "code",
        "colab": {}
      },
      "source": [
        "from sklearn.decomposition import KernelPCA,PCA\n",
        "pca = PCA(n_components=3)\n",
        "X_reduced = pca.fit_transform(X_impu)\n",
        "X_reduced.shape"
      ],
      "execution_count": null,
      "outputs": []
    },
    {
      "cell_type": "code",
      "metadata": {
        "id": "8C5seT_mh5nq",
        "colab_type": "code",
        "colab": {}
      },
      "source": [
        "Counter(Y)"
      ],
      "execution_count": null,
      "outputs": []
    },
    {
      "cell_type": "code",
      "metadata": {
        "id": "JvYxcPlch5n6",
        "colab_type": "code",
        "colab": {}
      },
      "source": [
        "Y.iloc[1374]"
      ],
      "execution_count": null,
      "outputs": []
    },
    {
      "cell_type": "code",
      "metadata": {
        "id": "BnlOoaVCh5oI",
        "colab_type": "code",
        "colab": {}
      },
      "source": [
        "# y_num = Y.apply(['IDC','ILC','MDLC','BREAST','IMMC'].index)"
      ],
      "execution_count": null,
      "outputs": []
    },
    {
      "cell_type": "code",
      "metadata": {
        "id": "Qshi8IL_h5oX",
        "colab_type": "code",
        "colab": {}
      },
      "source": [
        "x_nen=pd.DataFrame(data=X_reduced[0:,0:],index=[i for i in range(X_reduced.shape[0])],columns=['f'+str(i) for i in range(X_reduced.shape[1])])"
      ],
      "execution_count": null,
      "outputs": []
    },
    {
      "cell_type": "code",
      "metadata": {
        "id": "2ZyeuY6ph5oa",
        "colab_type": "code",
        "colab": {}
      },
      "source": [
        "x_nen = x_nen.reset_index()\n",
        "y = Y.reset_index()"
      ],
      "execution_count": null,
      "outputs": []
    },
    {
      "cell_type": "code",
      "metadata": {
        "id": "hYT7_-mph5oj",
        "colab_type": "code",
        "colab": {}
      },
      "source": [
        "x_nen = pd.concat([x_nen,y],axis=1)\n",
        "x_nen.drop(['index'],axis=1)"
      ],
      "execution_count": null,
      "outputs": []
    },
    {
      "cell_type": "code",
      "metadata": {
        "id": "tdxYxTh-h5ol",
        "colab_type": "code",
        "colab": {}
      },
      "source": [
        "idcs = x_nen[x_nen['Tumor Stage'] == 0]\n",
        "ilcs = x_nen[x_nen['Tumor Stage'] == 1]\n",
        "mdlcs = x_nen[x_nen['Tumor Stage'] == 2]\n",
        "brs = x_nen[x_nen['Tumor Stage'] == 3]\n",
        "immcs = x_nen[x_nen['Tumor Stage'] == 4]\n",
        "# idcs.shape\n"
      ],
      "execution_count": null,
      "outputs": []
    },
    {
      "cell_type": "code",
      "metadata": {
        "id": "xL52SLWzh5on",
        "colab_type": "code",
        "colab": {}
      },
      "source": [
        "import matplotlib.pyplot as plt\n",
        "from mpl_toolkits.mplot3d import Axes3D\n",
        "\n",
        "fig = plt.figure()\n",
        "ax = fig.add_subplot(111,projection='3d')\n",
        "ax.scatter(idcs.iloc[:,0],idcs.iloc[:,1],idcs.iloc[:,2],c='r',marker='^',label='Stage 0')\n",
        "ax.scatter(ilcs.iloc[:,0],ilcs.iloc[:,1],ilcs.iloc[:,2],c='green',marker='v',label='Stage 1')\n",
        "ax.scatter(mdlcs.iloc[:,0],mdlcs.iloc[:,1],mdlcs.iloc[:,2],c='blue',marker='o',label='Stage 2')\n",
        "ax.scatter(brs.iloc[:,0],brs.iloc[:,1],brs.iloc[:,2],c='black',marker='d',label='Stage 3')\n",
        "ax.scatter(immcs.iloc[:,0],immcs.iloc[:,1],immcs.iloc[:,2],c='yellow',marker='>',label='Stage 4')\n",
        "\n",
        "ax.legend()\n",
        "ax.view_init(20, 120)\n",
        "\n",
        "plt.savefig('Tumorstage PCA.png')"
      ],
      "execution_count": null,
      "outputs": []
    },
    {
      "cell_type": "markdown",
      "metadata": {
        "id": "6nEeL5_eh5op",
        "colab_type": "text"
      },
      "source": [
        "# Using resampled data"
      ]
    },
    {
      "cell_type": "code",
      "metadata": {
        "id": "5hPG8BErh5op",
        "colab_type": "code",
        "colab": {}
      },
      "source": [
        "from sklearn.decomposition import KernelPCA,PCA\n",
        "pca = PCA(n_components=3)\n",
        "X_reduced = pca.fit_transform(X_s)\n",
        "X_reduced.shape"
      ],
      "execution_count": null,
      "outputs": []
    },
    {
      "cell_type": "code",
      "metadata": {
        "id": "v91LQhguh5os",
        "colab_type": "code",
        "colab": {}
      },
      "source": [
        "# y_num = y_s.apply(['IDC','ILC','MDLC','BREAST','IMMC'].index)"
      ],
      "execution_count": null,
      "outputs": []
    },
    {
      "cell_type": "code",
      "metadata": {
        "id": "QHVxwqnXh5ow",
        "colab_type": "code",
        "colab": {}
      },
      "source": [
        "x_nen=pd.DataFrame(data=X_reduced[0:,0:],index=[i for i in range(X_reduced.shape[0])],columns=['f'+str(i) for i in range(X_reduced.shape[1])])"
      ],
      "execution_count": null,
      "outputs": []
    },
    {
      "cell_type": "code",
      "metadata": {
        "id": "timCiCcYh5o0",
        "colab_type": "code",
        "colab": {}
      },
      "source": [
        "x_nen = x_nen.reset_index()\n",
        "y = y_s.reset_index()\n"
      ],
      "execution_count": null,
      "outputs": []
    },
    {
      "cell_type": "code",
      "metadata": {
        "id": "9_n591mGh5o9",
        "colab_type": "code",
        "colab": {}
      },
      "source": [
        "x_nen = pd.concat([x_nen,y],axis=1)\n",
        "x_nen.drop(['index'],axis=1)"
      ],
      "execution_count": null,
      "outputs": []
    },
    {
      "cell_type": "code",
      "metadata": {
        "id": "ikYNn6fjh5pB",
        "colab_type": "code",
        "colab": {}
      },
      "source": [
        "idcs = x_nen[x_nen['Tumor Stage'] == 0]\n",
        "ilcs = x_nen[x_nen['Tumor Stage'] == 1]\n",
        "mdlcs = x_nen[x_nen['Tumor Stage'] == 2]\n",
        "brs = x_nen[x_nen['Tumor Stage'] == 3]\n",
        "immcs = x_nen[x_nen['Tumor Stage'] == 4]\n",
        "# idcs.shape"
      ],
      "execution_count": null,
      "outputs": []
    },
    {
      "cell_type": "code",
      "metadata": {
        "id": "N1PsSmi2h5pD",
        "colab_type": "code",
        "colab": {}
      },
      "source": [
        "import matplotlib.pyplot as plt\n",
        "from mpl_toolkits.mplot3d import Axes3D\n",
        "\n",
        "fig = plt.figure()\n",
        "ax = fig.add_subplot(111,projection='3d')\n",
        "ax.scatter(idcs.iloc[:,0],idcs.iloc[:,1],idcs.iloc[:,2],c='r',marker='^',label='Stage 0 ')\n",
        "ax.scatter(ilcs.iloc[:,0],ilcs.iloc[:,1],ilcs.iloc[:,2],c='green',marker='v',label='Stage 1')\n",
        "ax.scatter(mdlcs.iloc[:,0],mdlcs.iloc[:,1],mdlcs.iloc[:,2],c='blue',marker='o',label='Stage 2')\n",
        "ax.scatter(brs.iloc[:,0],brs.iloc[:,1],brs.iloc[:,2],c='black',marker='d',label='Stage 3')\n",
        "ax.scatter(immcs.iloc[:,0],immcs.iloc[:,1],immcs.iloc[:,2],c='yellow',marker='>',label='Stage 4')\n",
        "\n",
        "\n",
        "ax.view_init(50, 90)\n",
        "\n",
        "ax.legend(scatterpoints=1,\n",
        "           loc='lower left',\n",
        "           ncol=3,\n",
        "           fontsize=8)\n",
        "plt.savefig('TumorStage SMOTE PCA.png')"
      ],
      "execution_count": null,
      "outputs": []
    },
    {
      "cell_type": "code",
      "metadata": {
        "id": "0jzj0Dmrh5pF",
        "colab_type": "code",
        "colab": {}
      },
      "source": [
        ""
      ],
      "execution_count": null,
      "outputs": []
    }
  ]
}